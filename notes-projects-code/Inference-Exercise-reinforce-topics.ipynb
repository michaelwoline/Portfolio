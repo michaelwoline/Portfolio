{
 "cells": [
  {
   "cell_type": "markdown",
   "metadata": {},
   "source": [
    "### Inference Example Problems: MLE vs. Mom, bootstrapping, and confidence intervals:\n",
    "\n",
    "1. construct a confidence interval (x-bar --> confidence for the population mean)\n",
    "2. compare a bootstrap confidence interval to the above confidence interval \n",
    "3. provide an estimate (both MLE and Mom) of the distribuion which generated a sample. \n",
    "    - first use the \"right\" distribution, figure out which dist the sample came from. \n",
    "    - use a \"wrong\" distribution\n",
    "    - compare the truth with the \"truth estimate, with the \"wrong\" estimate.\n",
    "4. compete these and tell me which distributional estimates is better?"
   ]
  },
  {
   "cell_type": "markdown",
   "metadata": {},
   "source": [
    "### Assumptions and Guidelines:\n",
    "\n",
    "1. I will pick a populatin distribution, and fix the parameters.\n",
    "    - save the mean and std of the populatin for comparison later. \n",
    "- Sample from that population n=100 times. \n",
    "- Construct: \n",
    "    - Confidence interval and compare to the original mean. \n",
    "    - bootstrap confidence interval. \n",
    "    \n",
    "2. MLE and MoM estimates\n",
    "    - guess which dist. the sample came from by looking at graph\n",
    "        - calculate with the actual distribution the sample came from\n",
    "        - calculate with my guess of which distribution the sample came. \n",
    "        - guess wrong, and use a sample on the fringe of matching \n",
    "    - compare these 3 estimates\n",
    "3. which Estimator is better?\n",
    "\n"
   ]
  },
  {
   "cell_type": "code",
   "execution_count": 1,
   "metadata": {
    "collapsed": true
   },
   "outputs": [],
   "source": [
    "import scipy.stats as stats\n",
    "import numpy as np\n"
   ]
  },
  {
   "cell_type": "code",
   "execution_count": 2,
   "metadata": {},
   "outputs": [
    {
     "ename": "TypeError",
     "evalue": "_parse_args_rvs() got multiple values for argument 'a'",
     "output_type": "error",
     "traceback": [
      "\u001b[0;31m---------------------------------------------------------------------------\u001b[0m",
      "\u001b[0;31mTypeError\u001b[0m                                 Traceback (most recent call last)",
      "\u001b[0;32m<ipython-input-2-9b09d641e11d>\u001b[0m in \u001b[0;36m<module>\u001b[0;34m()\u001b[0m\n\u001b[1;32m      7\u001b[0m \u001b[0;34m\u001b[0m\u001b[0m\n\u001b[1;32m      8\u001b[0m \u001b[0;31m# gamma with K=1, theta=2\u001b[0m\u001b[0;34m\u001b[0m\u001b[0;34m\u001b[0m\u001b[0m\n\u001b[0;32m----> 9\u001b[0;31m \u001b[0mstats\u001b[0m\u001b[0;34m.\u001b[0m\u001b[0mgamma\u001b[0m\u001b[0;34m.\u001b[0m\u001b[0mrvs\u001b[0m\u001b[0;34m(\u001b[0m\u001b[0;36m10\u001b[0m\u001b[0;34m,\u001b[0m \u001b[0ma\u001b[0m\u001b[0;34m=\u001b[0m\u001b[0;36m1\u001b[0m\u001b[0;34m,\u001b[0m \u001b[0mscale\u001b[0m\u001b[0;34m=\u001b[0m\u001b[0;36m2\u001b[0m \u001b[0;34m)\u001b[0m\u001b[0;34m\u001b[0m\u001b[0m\n\u001b[0m",
      "\u001b[0;32m/Users/michaelwoline/anaconda2/envs/python36/lib/python3.6/site-packages/scipy/stats/_distn_infrastructure.py\u001b[0m in \u001b[0;36mrvs\u001b[0;34m(self, *args, **kwds)\u001b[0m\n\u001b[1;32m    935\u001b[0m         \u001b[0mdiscrete\u001b[0m \u001b[0;34m=\u001b[0m \u001b[0mkwds\u001b[0m\u001b[0;34m.\u001b[0m\u001b[0mpop\u001b[0m\u001b[0;34m(\u001b[0m\u001b[0;34m'discrete'\u001b[0m\u001b[0;34m,\u001b[0m \u001b[0;32mNone\u001b[0m\u001b[0;34m)\u001b[0m\u001b[0;34m\u001b[0m\u001b[0m\n\u001b[1;32m    936\u001b[0m         \u001b[0mrndm\u001b[0m \u001b[0;34m=\u001b[0m \u001b[0mkwds\u001b[0m\u001b[0;34m.\u001b[0m\u001b[0mpop\u001b[0m\u001b[0;34m(\u001b[0m\u001b[0;34m'random_state'\u001b[0m\u001b[0;34m,\u001b[0m \u001b[0;32mNone\u001b[0m\u001b[0;34m)\u001b[0m\u001b[0;34m\u001b[0m\u001b[0m\n\u001b[0;32m--> 937\u001b[0;31m         \u001b[0margs\u001b[0m\u001b[0;34m,\u001b[0m \u001b[0mloc\u001b[0m\u001b[0;34m,\u001b[0m \u001b[0mscale\u001b[0m\u001b[0;34m,\u001b[0m \u001b[0msize\u001b[0m \u001b[0;34m=\u001b[0m \u001b[0mself\u001b[0m\u001b[0;34m.\u001b[0m\u001b[0m_parse_args_rvs\u001b[0m\u001b[0;34m(\u001b[0m\u001b[0;34m*\u001b[0m\u001b[0margs\u001b[0m\u001b[0;34m,\u001b[0m \u001b[0;34m**\u001b[0m\u001b[0mkwds\u001b[0m\u001b[0;34m)\u001b[0m\u001b[0;34m\u001b[0m\u001b[0m\n\u001b[0m\u001b[1;32m    938\u001b[0m         \u001b[0mcond\u001b[0m \u001b[0;34m=\u001b[0m \u001b[0mlogical_and\u001b[0m\u001b[0;34m(\u001b[0m\u001b[0mself\u001b[0m\u001b[0;34m.\u001b[0m\u001b[0m_argcheck\u001b[0m\u001b[0;34m(\u001b[0m\u001b[0;34m*\u001b[0m\u001b[0margs\u001b[0m\u001b[0;34m)\u001b[0m\u001b[0;34m,\u001b[0m \u001b[0;34m(\u001b[0m\u001b[0mscale\u001b[0m \u001b[0;34m>=\u001b[0m \u001b[0;36m0\u001b[0m\u001b[0;34m)\u001b[0m\u001b[0;34m)\u001b[0m\u001b[0;34m\u001b[0m\u001b[0m\n\u001b[1;32m    939\u001b[0m         \u001b[0;32mif\u001b[0m \u001b[0;32mnot\u001b[0m \u001b[0mnp\u001b[0m\u001b[0;34m.\u001b[0m\u001b[0mall\u001b[0m\u001b[0;34m(\u001b[0m\u001b[0mcond\u001b[0m\u001b[0;34m)\u001b[0m\u001b[0;34m:\u001b[0m\u001b[0;34m\u001b[0m\u001b[0m\n",
      "\u001b[0;31mTypeError\u001b[0m: _parse_args_rvs() got multiple values for argument 'a'"
     ]
    }
   ],
   "source": [
    "# if d=='gamma':\n",
    "#     beta = mu/var\n",
    "#     alpha_ = var**2/var\n",
    "#     print(alpha_)\n",
    "#     samp= stats.gamma.rvs(support, a=alpha_, scale=1./beta )\n",
    "        \n",
    "    \n",
    "# gamma with K=1, theta=2\n",
    "stats.gamma.rvs(10, a=1, scale=2 )"
   ]
  },
  {
   "cell_type": "code",
   "execution_count": null,
   "metadata": {
    "collapsed": true
   },
   "outputs": [],
   "source": []
  },
  {
   "cell_type": "code",
   "execution_count": 29,
   "metadata": {
    "collapsed": true
   },
   "outputs": [],
   "source": [
    "import math as math"
   ]
  },
  {
   "cell_type": "markdown",
   "metadata": {
    "collapsed": true
   },
   "source": [
    "10 people are given a reading.\n",
    "each person is given all 10 readings in writing. \n",
    "Out of the 10, they select their own reading.\n",
    "If 5 of the 10 people guess correctly, then the experiment is a success. \n",
    "\n",
    "Let X be a random variable representing the 10 people selecting their own reading. \n",
    "E[X] = .1 because each person has a 1 in 10 chance of getting the right reading, and there are 10 people, we would expect 1 person to guess correctly. \n",
    "In a sense this experiment is with replacement. \n",
    "\n",
    "How many standard deviations and what confidence interval supports the 5 of 10 result needed?"
   ]
  },
  {
   "cell_type": "markdown",
   "metadata": {
    "collapsed": true
   },
   "source": [
    "### Answer:\n",
    "\n",
    "- Looks like we would set this up as a binomial experiment as they are either right or wrong. There is no continuous measure invovled in the result, so we will assume a discrete distribution. \n",
    "\n",
    "- i.i.d. each persons reading is independent of the other. They are not present for each others readings. Also, what one person selects as their reading has not impact on what someone else chooses because they get a copy of all 10 readings. \n",
    "\n",
    "- if we set this up as a hypothesis test, then we will use a one sided test because the person must get 5 or more right. \n",
    "\n",
    "#### confidence interval formula:\n",
    "$\\bar x \\pm t_{1-\\alpha, n-1} \\sqrt{\\frac{s^2}{n}}$\n",
    "\n",
    "\n"
   ]
  },
  {
   "cell_type": "code",
   "execution_count": 31,
   "metadata": {},
   "outputs": [
    {
     "name": "stdout",
     "output_type": "stream",
     "text": [
      "1.83311293265 0.25\n",
      "1\n",
      "6 4\n"
     ]
    }
   ],
   "source": [
    "n = 10\n",
    "p = 5\n",
    "\n",
    "tppf = stats.t.ppf(1-.05, df=n-1) \n",
    "test_s_dev = n*(p/n)*(1-(p/n))/n\n",
    "print (tppf, test_s_dev)\n",
    "conf_interval = math.ceil(tppf * test_s_dev)\n",
    "print (conf_interval)\n",
    "print(p+1, p-1)\n",
    "\n"
   ]
  },
  {
   "cell_type": "code",
   "execution_count": null,
   "metadata": {
    "collapsed": true
   },
   "outputs": [],
   "source": []
  },
  {
   "cell_type": "code",
   "execution_count": 11,
   "metadata": {},
   "outputs": [
    {
     "data": {
      "text/plain": [
       "0.975"
      ]
     },
     "execution_count": 11,
     "metadata": {},
     "output_type": "execute_result"
    }
   ],
   "source": [
    "1-.05/2"
   ]
  },
  {
   "cell_type": "code",
   "execution_count": 18,
   "metadata": {},
   "outputs": [
    {
     "name": "stdout",
     "output_type": "stream",
     "text": [
      "[1, 1, 1, 1, 1, 0, 0, 0, 0, 0]\n",
      "0.25\n"
     ]
    }
   ],
   "source": [
    "trials = [1]*5 + [0]*5\n",
    "print(trials)\n",
    "print(np.var(trials))"
   ]
  },
  {
   "cell_type": "code",
   "execution_count": null,
   "metadata": {
    "collapsed": true
   },
   "outputs": [],
   "source": []
  }
 ],
 "metadata": {
  "kernelspec": {
   "display_name": "Python 3",
   "language": "python",
   "name": "python3"
  },
  "language_info": {
   "codemirror_mode": {
    "name": "ipython",
    "version": 3
   },
   "file_extension": ".py",
   "mimetype": "text/x-python",
   "name": "python",
   "nbconvert_exporter": "python",
   "pygments_lexer": "ipython3",
   "version": "3.6.1"
  }
 },
 "nbformat": 4,
 "nbformat_minor": 2
}
