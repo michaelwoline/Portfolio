{
 "cells": [
  {
   "cell_type": "markdown",
   "metadata": {},
   "source": [
    "### Notation\n",
    "- suppose you have a sample, $({X_i: i=1, ...n}, {x_i: i=1,...n})$, and you constructed a 95% confidence for the populatin mean, $\\mu$ (the sample data points $X_i$ needn't be normally distributed)\n",
    "- $\\bar X = \\frac{\\sum^n_{i=1} X_i}{n}$ (a random variable which is the average of a sample)\n",
    "- $\\bar x = \\frac{\\sum^n_{i=1} x_i}{n}$ (a sample average)\n"
   ]
  },
  {
   "cell_type": "markdown",
   "metadata": {},
   "source": [
    "### CLT\n",
    "\n",
    "Result 1: $E[\\bar X] = \\mu = E[X_i]$ (we proved this with expectation math assumed i.i.d. $X_i$'s) \n",
    "\n",
    "Result 2: $Var(\\bar X) = \\frac{Var(X_i)}{n} = \\frac{\\sigma^2}{n}$ (we proved this with expectation math assumed i.i.d.) \n",
    "\n",
    "CLT Result: $\\bar X \\overset{\\tiny approx.}{\\sim}N\\left(E[X_i], \\frac{Var(X_i)}{n} \\right)$\n",
    "\n",
    "\n",
    "CLT Result: $\\bar X \\overset{\\tiny approx.}{\\sim} N\\left(E[X_I], \\frac{Var(X_i)}{n}\\right)$\n",
    "- approximately true if $X_i$'s i.i.d. (do not need normality) \n",
    "- approximation *improves* as $n$ increases\n",
    "- often it is thought that $n\\approx30$ is sufficient\n"
   ]
  },
  {
   "cell_type": "markdown",
   "metadata": {},
   "source": [
    "### CLT Notes:\n",
    "\n",
    "#### HW1: show via simulatin that this is so....\n",
    "#### HW2: see how large $n$ must be in order for this approximation to be quite accurate. Is it always $n=30$? if not, what characteristic about the data population seems to necessitate the need for larger sample sizes $n$\n",
    "- the spread will drive the spread of the $\\bar X$ distribution, but *it WILL NOT* actually affect the CLT result.\n",
    "- hint try samples from distribution which are skewed...\n",
    "    - e.g. geometric, exponential...\n"
   ]
  },
  {
   "cell_type": "markdown",
   "metadata": {},
   "source": [
    "### when creating a confidence interval we need to rely on a few assumptions.\n",
    "1. when sampling from a distribution that is not normal, then we need to rely on CLT, which comes into play at around 30 or more, but maybe closer to 100 for exponential in order to remove the left skew. \n",
    "2. If data is less than 30 then, we need to rely on the t-distribution, and we have to assume the data comes from a normal distribution. \n",
    "3. If neither of these exist, then we can move to bootstrapping.\n",
    "    - We need to validate our assumptions when we use bootstrapping \n",
    "        - When does it work and not work for the params we are using against different distributions. like we had issues with gamma. \n",
    "        \n",
    "        \n",
    "\n",
    "\n"
   ]
  },
  {
   "cell_type": "markdown",
   "metadata": {},
   "source": [
    "### t-distribution\n",
    "\n",
    "if $X_i \\sim Normal$ then, \n",
    "\n",
    "$\\bar X \\sim t_{n-1}\\left(E[X_i], \\frac{s^2=\\frac{\\sum_{i=1}^n(x_i-\\bar x)^2}{n-1}}{n}\\right)$\n",
    "\n"
   ]
  },
  {
   "cell_type": "markdown",
   "metadata": {},
   "source": [
    "#### Confidence Intervals for CLT\n",
    "\n",
    "$\\alpha = 0.5$\n",
    "\n",
    "$\\bar x \\pm z_{1-\\alpha/2} \\sqrt{\\frac{s^2}{n}}$\n",
    "\n",
    "\n",
    "$Z$ is random variable which is distributed according to a standard normal distribution, $z_{percentile}$ is the $Z$\n",
    "\n",
    "$Pr(Z \\leq z_{percentile}) = percentile$\n",
    "\n",
    "\n",
    "$\\bar x \\pm Z_{0975} \\sqrt{s^2}$"
   ]
  },
  {
   "cell_type": "markdown",
   "metadata": {},
   "source": [
    "#### Confidence intervals for (t-distribution case)\n",
    "- CLT not holding (sample size too small)\n",
    "- data normally distributed\n",
    "\n",
    "\n",
    "$\\bar x \\pm t_{1-\\alpha/2, n-1} \\sqrt{\\frac{s^2}{n}}$\n",
    "\n",
    "$\\bar x \\pm t_{0975, n-1} \\sqrt{\\frac{s^2}{n}}$\n"
   ]
  },
  {
   "cell_type": "markdown",
   "metadata": {},
   "source": [
    "#### Questions:\n",
    "\n",
    "you have $\\bar x$ and $s^2$ and $n$ is NOT greater than 30, but data is normally distributed. \n",
    "\n",
    "If I told you $\\mu=10$, how would you check this statistically?\n",
    "- construct a confidence interval: check if 10 is it in it. $(\\bar x =10) \\pm t_{0975, n-1} \\sqrt{\\frac{s^2}{n}}$ let n <30 and > 10\n",
    "    - if $10$ is NOT in the interval (but really $\\mu=10$) \n",
    "        - either we are unlucky, and we have one of the 5% where mu is not contained in the interval, \n",
    "        - or mu of $10$ is not in the interval.\n",
    "        - under both of these options, we say \"we reject he hypothesis that $\\mu=10$ at the $\\alpha=.05$ level\"\n"
   ]
  },
  {
   "cell_type": "markdown",
   "metadata": {},
   "source": [
    "Thus when we say:\n",
    "- \"we reject the hypotesis at the $\\alpha=.05$ level\"\n",
    "\n",
    "what we mean is $Pr($reject hypothesis $|$ hypothesis is true$) = \\alpha = 0.05$\n",
    "- notice that this is \"hypothesis is true\" -centric\n",
    "- it's all based under the assumption that the hypothesis IS in fact true!\n",
    "- We don't know this... this is an assumption to allow us to characterize the effectiveness of our test (under the conditions when the hypothesis is true)\n",
    "- e.g., if the hypothesis IS TRUE, then I'd not want to reject it very often -- thus $\\alpha=0.05$ tells me if the hypothesis is true, I'll only incorrectly reject it 5% of the time.\n",
    "- Note this tells me NOTHING about whether or not the hypotheis in fact is true...\n",
    "\n",
    "- if $10$ is in the interval then \n",
    "- \"we *fail to reject* the hyposhese $\\mu=10$ at the $\\alpha=.05$ level\"\n",
    "- One must NEVER say \"I ACCEPT the hypothesis\"\n",
    "    - because, the mean could be an infinate number between our confidence interval therefore we can't accept that particular number. "
   ]
  },
  {
   "cell_type": "markdown",
   "metadata": {},
   "source": [
    "So, of the two things that could have happened, either \n",
    "- we incorrectly rejected the hypothesis (with chance $\\alpha =0.05$) or \n",
    "- we correctly rejected the hypothesis\n",
    "    - This DOES NOT MEAN that there was a 95%\n",
    "\n",
    "The chance of incorrectly rejecting the hypothesis is called a *TYPE I error* \n",
    "\n",
    "$Pr(Type 1 error = alpha)$"
   ]
  },
  {
   "cell_type": "markdown",
   "metadata": {},
   "source": [
    "What could happen with your answers?\n",
    "- CLT is not holding, so we need to assume the distribution is normal. If the distribution is not normal, we may have issues. \n",
    "\n"
   ]
  },
  {
   "cell_type": "markdown",
   "metadata": {},
   "source": [
    "What if actually $\\mu=11$ -- what could happen with your answers with respect to the hypothesis that states $\\mu=10$? \n",
    "- My Answer: we need to see if the confidence interval still captures the mu of 10. \n",
    "\n",
    "\n",
    "\n",
    "- Type II Error\n",
    "- Pr(Type II error) =$\\beta$\n",
    "    - Pr(incorrectly failing to reject $H_0 | H_A$ is true)\n",
    "    - Pr(incorrectly failing to reject $H_0$ when $H_A$ is true)\n",
    "    - to calculate $\\beta$ (type II error) WE MUST SPECIFY EXACTLY WHAT $H_A$ is -- otherwise we can't do this calculation because with respect to what \"truth\" are we calculating it?\n",
    "- Alternative hypothesis $H_a$ (as opposed to *null hypothesis* $H_0$)\n",
    "\n",
    "- power = $Pr(rejecting H_0) | H_a \\;true)$"
   ]
  },
  {
   "cell_type": "markdown",
   "metadata": {},
   "source": [
    "Null: the reason we say Null Hypothesis is because it has null effect. aka. no effect. Usually use $H_0$ sometimes also 0 with slash through it. \n",
    "\n",
    "- We're kinda expecting to reject $H_0$\n"
   ]
  }
 ],
 "metadata": {
  "kernelspec": {
   "display_name": "Python 3",
   "language": "python",
   "name": "python3"
  },
  "language_info": {
   "codemirror_mode": {
    "name": "ipython",
    "version": 3
   },
   "file_extension": ".py",
   "mimetype": "text/x-python",
   "name": "python",
   "nbconvert_exporter": "python",
   "pygments_lexer": "ipython3",
   "version": "3.6.1"
  }
 },
 "nbformat": 4,
 "nbformat_minor": 2
}
