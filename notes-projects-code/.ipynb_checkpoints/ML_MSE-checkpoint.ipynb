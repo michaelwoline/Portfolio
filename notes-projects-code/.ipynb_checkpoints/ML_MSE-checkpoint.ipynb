{
 "cells": [
  {
   "cell_type": "markdown",
   "metadata": {},
   "source": [
    "## MSE - (Mean Square Error)\n",
    "- We have a set of data points, and we find a regession line that cuts through which is our prediction. \n",
    "- How do we understand how well does the prediction account for the feature data.\n",
    "- Lower score is better.\n",
    "- formula is like variance: $\\frac{\\sum^n_{i=1}(Y_i - \\hat Y_i)^2}{n}$\n",
    "- y - y_hat is the residual\n",
    "- by using the data point we want to predict, our mse becomes smaller and over optimistic.\n",
    "- Relatively speaking the mse may not go down by much when we use the value we are predicting, but it will be smaller. \n",
    "- if the business asked to predict one point, we might leave it in as part of the prediction and let them know. \n",
    "- Sometimes called a metric, informally a \"score\"\n",
    "- Loss Function\n",
    "\n",
    "\n",
    "### 2 Cross Validation processes: LOO and Train, test, split\n",
    "\n",
    "#### LOO - Leave One Out:\n",
    "- remove one predictor and calculate the model. \n",
    "- score the model.\n",
    "- Type of cross validation\n",
    "\n",
    "#### Train Test Split\n",
    "- 70/30 maybe read about split sized if interested. \n",
    "- take 30 data points our of 100. \n",
    "- n now has 70 that we will use to fit the model. \n",
    "- we then calculate the $\\hat Y_i$ on the training data of 70.\n",
    "- we then calculate MSE by plugging in $Y_i$ from the 30 test data points to score. \n",
    "- out of sample MSE\n",
    "- \n"
   ]
  },
  {
   "cell_type": "markdown",
   "metadata": {},
   "source": []
  },
  {
   "cell_type": "markdown",
   "metadata": {},
   "source": [
    "## Continuation Lecture:\n",
    "- $C^TC$ is the pythagorium thereom. Euclidian distance. \n",
    "- also $|C| = \\sqrt{C^TC}$\n",
    "- This is how we can use linear algebra notation to describe distances and perform our Euclidian distance. \n",
    "- To speed up the calculation I could take a copy of the vector and multiply it by itself. no need to transpose probably because it does element wise multiplication.\n",
    "- another method is C.T.dot(C) : check to see if there is a need to transpose in numpy.\n",
    "- MSE = $\\Large \\frac{|\\hat \\epsilon|^2}{n}$"
   ]
  }
 ],
 "metadata": {
  "kernelspec": {
   "display_name": "Python 3",
   "language": "python",
   "name": "python3"
  },
  "language_info": {
   "codemirror_mode": {
    "name": "ipython",
    "version": 3
   },
   "file_extension": ".py",
   "mimetype": "text/x-python",
   "name": "python",
   "nbconvert_exporter": "python",
   "pygments_lexer": "ipython3",
   "version": "3.6.1"
  }
 },
 "nbformat": 4,
 "nbformat_minor": 2
}
