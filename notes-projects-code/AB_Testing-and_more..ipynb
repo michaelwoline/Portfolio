{
 "cells": [
  {
   "cell_type": "markdown",
   "metadata": {},
   "source": [
    "### A/B testing\n",
    "\n",
    "- <p style=\"color:red\">A/B testing:  </p>\n",
    "    - there's a company, Etsy\n",
    "    - product page and \n",
    "        - people either buy/click through/conversion\n",
    "        - or leave\n",
    "        - interested in #successes/#tries\n",
    "    \n",
    "- Will have old way it was done \"A\" = $X_i$ i.i.d. ~ bernouli($P_b$)\n",
    "- Will have new way \"B\" =  $Y_i$ \n",
    "    - i.i.d: first i. is violated if friends shop together look at screen together. \n",
    "        - i.d. if not using the same homogoneous population, then i.d. is violated. soccer camp vs. data camp. \n",
    "            - $P_A$ changes across a whole group of people uniform.y\n",
    "                - e.g. data science camp people vs. soccer camp people. \n",
    "                - difference in population\n",
    "                \n",
    "- observational study to be contrasted with controlled experiments.\n",
    "    - obs study \n",
    "        - control confounding\n",
    "        - look for confounding factors. \n",
    "        - huge undertaking. \n",
    "- controlled exp. \n",
    "    - way to isolate during the test any external influences\n",
    "    - way to randomize, double blind, etc. \n",
    "    \n",
    "- <p style=\"color:red\">Confounding:  </p>\n",
    "    - you don't know what you don't know. \n",
    "        - could be external influences such as 9/11 or election results, etc. beyond the change to the website. \n",
    "    - Example:\n",
    "        - send fliers to a group to come to a meetup.\n",
    "        - One group received flier \"A\"\n",
    "        - 2nd group did not get flier \"B\"\n",
    "            - Avg sales A\n",
    "            - Avg. sales B\n",
    "            - differences:\n",
    "                - motivated \n",
    "                - Money/time can they afford to go? \n",
    "                - activity level\n",
    "            - this was not a controlled exp. there is confounding.\n",
    "           \n",
    "        - A before and A sales afterwards.\n",
    "            - sent fliers randomly\n",
    "            - arrivals/rsvps self-selected.\n",
    "                - again confounding because they are self selected. \n",
    "        - One option is to have 3 different meetups people are invited to attend.\n",
    "            - 1. the meetup that teaches sales.\n",
    "            - 2. another meetup that is terrible at teaching sales. or teaches something else.\n",
    "            - 3. and truly neferious, a control group that goes to a 3rd meetup but that one is canceled at the last minute. \n",
    "\n",
    "\n",
    "\n",
    "- by splitting the change and offering both changes at the same time, we move towards controlled exp. but it is still an observational study because we are not controlling who comes to the site or influencers that effect them. \n",
    "    - \n",
    "- ideal experiements \"perfectly\" match individuals on different sides of the experiment. Randomization is a weak/ / way to achieve this --> works for \"large\" n.\n",
    "\n",
    "- Topics and subtopics covered so far:\n",
    "    - Confounding\n",
    "    - Observational studies\n",
    "    - controlled studies\n",
    "    - experimental balance\n",
    "    - Randomization\n",
    "    - What effect are you answering\n",
    "        - you should measure at a level that you can \"control\"/randomize\n",
    "    - we can control for possible confounding by adjusting for covariates balancing factors. \n",
    "\n",
    "\n"
   ]
  },
  {
   "cell_type": "markdown",
   "metadata": {},
   "source": [
    "### $H_0$ and $H_a$\n",
    "\n",
    "- $H_0$\n",
    "    - status quo\n",
    "    - conservative - strength of *conservativeness specified by alpha*\n",
    "    - nothing intersting happening : no difference, null effect, no effect\n",
    "    - \"straw man\"\n",
    "    - null receives the benefit of the doubt. \n",
    "    - I must reject null with evidence.  (with evidence)\n",
    "    - Is not that null must vindicate itself\n",
    "    - innocent until proven guilty\n",
    "    - $H_0$: $p_A = p_B$\n",
    "\n",
    "- in the example we used we wound up collecting data for 2 different samples. \n",
    "    - we said Pa - Pb = 0 so we calculated the difference of the means and the variances. and found our test statistics to find out if it was within the null hyp. \n",
    "    \n",
    "\n",
    "- Use math to prove and derive the reasoning. (2.5)\n",
    "    - deriving distribution.\n",
    "    "
   ]
  },
  {
   "cell_type": "markdown",
   "metadata": {},
   "source": [
    "# <p style=\"color:red\">$\\alpha$</p>\n",
    "\n",
    "### Probability of rejecting $H_0$ | given $H_0$ is true. \n",
    "- Also called significance level\n",
    "- alpha regions aka tails, are also called critical regions. \n",
    "- what is the chance the null hypothesis is true we would fall into this region. \n",
    "\n",
    "- Process:\n",
    "    - set alpha = Pr(rejecting H_0 | H_0 is true\n",
    "        = Pr(wrongly rejecting H_0) is $\\alpha$ = <p style=\"color:red\">*significance level*</p>\n",
    "    - Assume H_0\n",
    "    - distribution test-statistic under H_0 true\n",
    "    - see actualized test-statistic\n",
    "    - See if it fall into critical region\n",
    "    - reject H_0 if test stat falls into critical regiion. \n",
    "    - Addendum:\n",
    "        - If H_0 was TRUE, but we rejected H_0 this is a<p style=\"color:red\">TYPE I error</p>\n",
    "\n",
    "\n",
    "\n"
   ]
  },
  {
   "cell_type": "markdown",
   "metadata": {},
   "source": [
    "- Assume:\n",
    "    - $H_0: P_A = P_B$\n",
    "    - $H_A$: $p_A +.007= p_B$\n",
    "    - if $H_0$ true\n",
    "        - $\\hat{P_B}  - \\hat{P_A}  $ ~ N(0, $\\frac{(P_A(1-P_A)}{n_A} + \\frac{P_B(1-P_B}{n_B})$\n",
    "    - if $H_A$ true:\n",
    "        - $\\hat{P_B}  - \\hat{P_A} $ ~ N(.007, $\\frac{(P_A(1-P_A)}{n_A} + \\frac{P_B(1-P_B}{n_B})$\n",
    "\n",
    "- $H_A$ (3.5)  distribution under which the actual alternative data came from. We will see most of the data points in the area of the alternative hypothesis. "
   ]
  },
  {
   "cell_type": "markdown",
   "metadata": {},
   "source": [
    "## Type II Error:\n",
    "- FAILURE to reject the null hypothesis when the alternative is true aka when I should have rejected. . "
   ]
  },
  {
   "cell_type": "markdown",
   "metadata": {},
   "source": [
    "# $\\beta$\n",
    "- $\\beta$ = Pr(failing to reject $H_0 | H_A$ is true\n",
    "\n",
    "- as alpha goes up Beta goes down. inversly related. \n",
    "\n",
    "\n",
    "- small alpha makes small Pr(wrongly rejecting H_0) \n",
    "- we don't want to brashly reject \n",
    "- makes a Type I error. \n",
    "\n",
    "### How to Calculate?????????\n"
   ]
  },
  {
   "cell_type": "markdown",
   "metadata": {},
   "source": [
    "## Power\n",
    "- Pr(rejecting H_0 | H_A is true)\n",
    "- (= 1-$\\beta$)\n",
    "\n",
    "\n",
    "- Power analysis - also called sample size calculation\n",
    "- how many experts do we want to pay for optimal chance of getting the correct answer.\n",
    "- number of experts needed based on the probability they will get the right answer.\n",
    "- probablity of being right given the number of experts. \n",
    "    - greater number of experts the higher the percentage of being right. \n",
    "        - question of variance of the estimate of proportion.\n",
    "\n",
    "\n",
    "\n",
    "### Review the math that calculates this...\n",
    "- Find questions. \n",
    "- solidify intuition and play with examples. \n",
    "\n",
    "### Learn the power power curve. \n",
    "- make one\n",
    "\n",
    "- blog on power calc, and all hypothesis testing aspects covered here. \n",
    "\n"
   ]
  },
  {
   "cell_type": "markdown",
   "metadata": {},
   "source": [
    "## Effect Size\n",
    "- the actual difference between my 2 means. in this case P_A - P_B = .007\n",
    "- as the sample size gets larger (n)\n",
    "    - variance gets smaller. (spread get narrower) \n",
    "    - the beta gets smaller. \n",
    "    - power increases. \n",
    "    \n",
    "\n",
    "- \n"
   ]
  },
  {
   "cell_type": "markdown",
   "metadata": {},
   "source": [
    "### P-value\n",
    "\n",
    "- Pr(as or more extreme than what I saw | H_0 is true)\n",
    "- The more extreme, the smaller the P-value\n",
    "- each test statistic will have it's own P-value\n",
    "\n",
    "- if H_0 is TRUE, how bizzare is the value we saw? \n",
    "\n",
    "- calculate 1 or 2 tail alpha or alpha/2 and compare to my calculated P-value\n",
    "    - if P-value < alpha/2 the data falls in the rejection region. \n",
    "    - used to quantify evidence against null hypothesis. \n",
    "    - if P-value is > alpha/2, then data doesn't fall in the rejection region. \n",
    "\n",
    "#### Be careful how we use P-value\n",
    "- The only thing we can say is Pr(of seeing this point or more extreme | given H_0 is True)\n",
    "- Never say:\n",
    "    - Pr(H_0 is true) never say!!! Either it is true or it is not, there is never a probably for something that either is or is not. Null is not a random variable. \n",
    "\n",
    "\n",
    "- We can say:\n",
    "    - with a small P-value, we have stronger evidence against H_0\n",
    "    - a measure of evidence against null.\n",
    "    - p-value quantifies uncertainty of the data rather than the uncertainty of H_0\n",
    "    \n",
    "\n",
    "- Imagine that our H_A was so far to the right of our H_0, then the chance of seeing a point that came from H_A is so unlikely, it's nearly zero. We can still wind up rejecting H_0, but H_0 would have been a better choice when we do a likelyhood comparison of the heights of the curves. The point on H_A would look like a dot compared to a tall line of H_0. \n",
    "   #### - The point is that the P-value only tells us information about H_0, and nothing about what we think H_A is, should be, could be, or any other relationship. "
   ]
  },
  {
   "cell_type": "markdown",
   "metadata": {},
   "source": [
    "## Sample Size\n",
    "- pick an effect size in order to calculate Power. \n",
    "    - make sure we have a conservative number \n",
    "    - we can do a sensitivity analysis by trying different effect sizes.\n",
    "        - this gives us possible outcomes and how confident the experiment will be a success and that I'm not flipping a coin and getting a 50% chance of success. \n",
    "\n",
    "- sample size with tell us how large n needs to be in order to ensure success. "
   ]
  },
  {
   "cell_type": "code",
   "execution_count": null,
   "metadata": {
    "collapsed": true
   },
   "outputs": [],
   "source": []
  },
  {
   "cell_type": "code",
   "execution_count": null,
   "metadata": {
    "collapsed": true
   },
   "outputs": [],
   "source": []
  },
  {
   "cell_type": "code",
   "execution_count": null,
   "metadata": {
    "collapsed": true
   },
   "outputs": [],
   "source": []
  },
  {
   "cell_type": "code",
   "execution_count": null,
   "metadata": {
    "collapsed": true
   },
   "outputs": [],
   "source": []
  },
  {
   "cell_type": "code",
   "execution_count": null,
   "metadata": {
    "collapsed": true
   },
   "outputs": [],
   "source": []
  },
  {
   "cell_type": "code",
   "execution_count": null,
   "metadata": {
    "collapsed": true
   },
   "outputs": [],
   "source": []
  }
 ],
 "metadata": {
  "kernelspec": {
   "display_name": "Python 3",
   "language": "python",
   "name": "python3"
  },
  "language_info": {
   "codemirror_mode": {
    "name": "ipython",
    "version": 3
   },
   "file_extension": ".py",
   "mimetype": "text/x-python",
   "name": "python",
   "nbconvert_exporter": "python",
   "pygments_lexer": "ipython3",
   "version": "3.6.1"
  }
 },
 "nbformat": 4,
 "nbformat_minor": 2
}
