{
 "cells": [
  {
   "cell_type": "markdown",
   "metadata": {},
   "source": [
    "Q: how to put python code in a markdown.\n",
    "    \n",
    "`#python code\n",
    "`\n",
    "```python\n",
    "\n",
    "a+b\n",
    "```\n",
    "\n",
    "Q: Create a nicely spaced ordered list. \n",
    "\n",
    "```python\n",
    "list_1 = []\n",
    "list_1.append(['hello', 'this is my python notebook', 'inside list_1'])\n",
    "#list_1.append([\n",
    "```\n",
    "1. hello\n",
    "<br>\n",
    "    this is a paragraph\n",
    "2. this is my python notebook\n",
    "    <br>\n",
    "    -stuff\n",
    "    \n",
    "3. list_1\n",
    "    ```python\n",
    "    list_1 = []\n",
    "    list_1.append(['hello', 'this is my python notebook', 'inside \\ list_1'])\n",
    "    ```\n",
    "    \n",
    "4. hello world\n",
    "<!-- comment this is html-->\n",
    "<img src=(/Users/michaelwoline/Desktop/Stats.png) alt=\"stats pic\">\n"
   ]
  },
  {
   "cell_type": "markdown",
   "metadata": {},
   "source": [
    "Q: make a list of numbers 0 - 9 in python and return every other number in reverse.\n"
   ]
  },
  {
   "cell_type": "code",
   "execution_count": 13,
   "metadata": {},
   "outputs": [
    {
     "data": {
      "text/plain": [
       "[9, 7, 5, 3, 1]"
      ]
     },
     "execution_count": 13,
     "metadata": {},
     "output_type": "execute_result"
    }
   ],
   "source": [
    "x=[n for n in xrange(10)]\n",
    "x[-1:0:-2]\n"
   ]
  },
  {
   "cell_type": "code",
   "execution_count": 14,
   "metadata": {},
   "outputs": [
    {
     "name": "stdout",
     "output_type": "stream",
     "text": [
      "[0, 1, 2, 3, 4, 5, 6, 7, 8, 9]\n"
     ]
    }
   ],
   "source": [
    "#Q: make a list from a generator without any list comprehension\n",
    "x = list(xrange(10))\n",
    "print x\n",
    "\n",
    "#Q when do you not want to use a generator\n",
    "# A: if we reuse the list multiple times. "
   ]
  },
  {
   "cell_type": "code",
   "execution_count": null,
   "metadata": {
    "collapsed": true
   },
   "outputs": [],
   "source": [
    "a = ([1,2], [3,4])\n",
    "# a[0] = [0,1] # this fails because it is a tuple\n",
    "\n",
    "a[0][0]=10\n"
   ]
  },
  {
   "cell_type": "markdown",
   "metadata": {},
   "source": [
    "Q: difference between a dict and list\n",
    "<br>\n",
    "A: dictionary uses key : value pairs to store data. very fast lookup using hash table. keys must be immutable, and values can be anything. \n",
    "\n",
    "list must be accessed through indexing whereas dictionary through key lookups.\n",
    "\n"
   ]
  },
  {
   "cell_type": "code",
   "execution_count": 16,
   "metadata": {
    "collapsed": true
   },
   "outputs": [],
   "source": [
    "#[i**2 for i in range(5)]\n",
    "x = range(5)\n",
    "def my_generator(x):\n",
    "    #```create a generator that gives a square of each value in the iterable\n",
    "    for i in x:\n",
    "        yield i**2\n",
    "    "
   ]
  },
  {
   "cell_type": "code",
   "execution_count": null,
   "metadata": {
    "collapsed": true
   },
   "outputs": [],
   "source": []
  },
  {
   "cell_type": "markdown",
   "metadata": {},
   "source": [
    "arguments are actual values passed to instantiate or an already instantiated object. \n",
    "\n",
    "Parameters are placeholders of what the function is looking to be passed in. "
   ]
  },
  {
   "cell_type": "code",
   "execution_count": null,
   "metadata": {
    "collapsed": true
   },
   "outputs": [],
   "source": [
    "#create a one line swap:\n",
    "a=1\n",
    "b=2\n",
    "b,a = a, b\n",
    "# or\n",
    "b,a = (a,b)\n"
   ]
  },
  {
   "cell_type": "code",
   "execution_count": 28,
   "metadata": {
    "collapsed": true
   },
   "outputs": [],
   "source": [
    "# put a doc string in a function\n",
    "def my_func():\n",
    "    '''doc string function instructions\n",
    "    creating a test value use >>> and space afterwards.\n",
    "    >>> my_func()==\"hello\"\n",
    "    True\n",
    "    '''\n",
    "    return \"helllo\"\n",
    "    "
   ]
  },
  {
   "cell_type": "code",
   "execution_count": 29,
   "metadata": {},
   "outputs": [
    {
     "name": "stdout",
     "output_type": "stream",
     "text": [
      "**********************************************************************\n",
      "File \"__main__\", line 4, in __main__.my_func\n",
      "Failed example:\n",
      "    my_func()==\"hello\"\n",
      "Expected:\n",
      "    True\n",
      "Got:\n",
      "    False\n",
      "**********************************************************************\n",
      "1 items had failures:\n",
      "   1 of   1 in __main__.my_func\n",
      "***Test Failed*** 1 failures.\n"
     ]
    },
    {
     "data": {
      "text/plain": [
       "'great way to test\\n    goes to each function and looks at the docstring \\n    then runs the code and compares with docstring output. '"
      ]
     },
     "execution_count": 29,
     "metadata": {},
     "output_type": "execute_result"
    }
   ],
   "source": [
    "import doctest\n",
    "doctest.testmod()\n",
    "'''great way to test\n",
    "    goes to each function and looks at the docstring \n",
    "    then runs the code and compares with docstring output. '''"
   ]
  },
  {
   "cell_type": "code",
   "execution_count": 40,
   "metadata": {
    "collapsed": true
   },
   "outputs": [],
   "source": [
    "def my_unlimited_args(*args, **kwargs):\n",
    "    '''print an unlimited number of unnamed args and keyword args.\n",
    "    '''\n",
    "    print args, kwargs\n",
    "    #what does * mean? unlimited single arguments: this says I'm passing\n",
    "    # list or tuple. \n",
    "    \n",
    "    #**kwargs - this is like a dictionary, but not a dict obj, \n",
    "    # in that they are key value pairs: "
   ]
  },
  {
   "cell_type": "code",
   "execution_count": 41,
   "metadata": {},
   "outputs": [
    {
     "name": "stdout",
     "output_type": "stream",
     "text": [
      "(1, 2, 3, 4) {'a': 1, 'b': 2}\n"
     ]
    }
   ],
   "source": [
    "#my_unlimited_args(a, b, c, d, {\"a\"=a, \"b\"=b})\n",
    "a = 1\n",
    "b = 2\n",
    "c, d = 3, 4\n",
    "\n",
    "my_unlimited_args(a, b, c, d, **{\"a\":a, \"b\":b})\n"
   ]
  },
  {
   "cell_type": "code",
   "execution_count": 42,
   "metadata": {},
   "outputs": [
    {
     "name": "stdout",
     "output_type": "stream",
     "text": [
      "(1, 2, 3, 4) {'a': 1, 'b': 2}\n"
     ]
    }
   ],
   "source": [
    "my_unlimited_args(*[a, b, c, d], **{\"a\":a, \"b\":b})"
   ]
  },
  {
   "cell_type": "code",
   "execution_count": 43,
   "metadata": {},
   "outputs": [
    {
     "name": "stdout",
     "output_type": "stream",
     "text": [
      "(1, 2, 3, 4) {'a': 1, 'b': 2}\n"
     ]
    }
   ],
   "source": [
    "my_unlimited_args(a, b, c, d, a=a, b=b)"
   ]
  },
  {
   "cell_type": "code",
   "execution_count": 44,
   "metadata": {
    "collapsed": true
   },
   "outputs": [],
   "source": [
    "#Now iterate through the args and kwargs\n",
    "def my_unlimited_args(*args, **kwargs):\n",
    "    '''print an unlimited number of unnamed args and keyword args.\n",
    "    '''\n",
    "    for x in args:\n",
    "        print x\n",
    "    for y in kwargs.items():\n",
    "        print y"
   ]
  },
  {
   "cell_type": "code",
   "execution_count": 45,
   "metadata": {},
   "outputs": [
    {
     "name": "stdout",
     "output_type": "stream",
     "text": [
      "1\n",
      "2\n",
      "3\n",
      "4\n",
      "('a', 1)\n",
      "('b', 2)\n"
     ]
    }
   ],
   "source": [
    "my_unlimited_args(a, b, c, d, a=a, b=b)"
   ]
  },
  {
   "cell_type": "code",
   "execution_count": 46,
   "metadata": {},
   "outputs": [
    {
     "data": {
      "text/plain": [
       "4"
      ]
     },
     "execution_count": 46,
     "metadata": {},
     "output_type": "execute_result"
    }
   ],
   "source": [
    "#define a lambda function:\n",
    "lamb = lambda x: x**2\n",
    "lamb(2)"
   ]
  },
  {
   "cell_type": "code",
   "execution_count": 48,
   "metadata": {},
   "outputs": [
    {
     "data": {
      "text/plain": [
       "'doctest'"
      ]
     },
     "execution_count": 48,
     "metadata": {},
     "output_type": "execute_result"
    }
   ],
   "source": [
    "__name__\n",
    "#when a kernel is started it gives context as to what the name is and\n",
    "# and the entry point.\n",
    "doctest.__name__"
   ]
  },
  {
   "cell_type": "code",
   "execution_count": 50,
   "metadata": {},
   "outputs": [
    {
     "name": "stdout",
     "output_type": "stream",
     "text": [
      "__main__\n"
     ]
    }
   ],
   "source": [
    "print __name__\n",
    "\n"
   ]
  },
  {
   "cell_type": "code",
   "execution_count": 51,
   "metadata": {},
   "outputs": [
    {
     "ename": "IndentationError",
     "evalue": "expected an indented block (<ipython-input-51-76bc1a24aca3>, line 9)",
     "output_type": "error",
     "traceback": [
      "\u001b[0;36m  File \u001b[0;32m\"<ipython-input-51-76bc1a24aca3>\"\u001b[0;36m, line \u001b[0;32m9\u001b[0m\n\u001b[0;31m    class my_class(aggregate_class):\u001b[0m\n\u001b[0m                                    ^\u001b[0m\n\u001b[0;31mIndentationError\u001b[0m\u001b[0;31m:\u001b[0m expected an indented block\n"
     ]
    }
   ],
   "source": [
    "#state the difference between compesition and inheritence. and \n",
    "#polymporphism and overloading.\n",
    "class my_class(object):\n",
    "    def __init__(aggregate_class):\n",
    "        self.agg = aggregate_class\n",
    "    def __add__(n):\n",
    "        \n",
    "        \n",
    "class my_class(aggregate_class):\n",
    "    pass\n",
    "\n"
   ]
  },
  {
   "cell_type": "code",
   "execution_count": 52,
   "metadata": {},
   "outputs": [
    {
     "data": {
      "text/plain": [
       "['__abs__',\n",
       " '__add__',\n",
       " '__and__',\n",
       " '__class__',\n",
       " '__cmp__',\n",
       " '__coerce__',\n",
       " '__delattr__',\n",
       " '__div__',\n",
       " '__divmod__',\n",
       " '__doc__',\n",
       " '__float__',\n",
       " '__floordiv__',\n",
       " '__format__',\n",
       " '__getattribute__',\n",
       " '__getnewargs__',\n",
       " '__hash__',\n",
       " '__hex__',\n",
       " '__index__',\n",
       " '__init__',\n",
       " '__int__',\n",
       " '__invert__',\n",
       " '__long__',\n",
       " '__lshift__',\n",
       " '__mod__',\n",
       " '__mul__',\n",
       " '__neg__',\n",
       " '__new__',\n",
       " '__nonzero__',\n",
       " '__oct__',\n",
       " '__or__',\n",
       " '__pos__',\n",
       " '__pow__',\n",
       " '__radd__',\n",
       " '__rand__',\n",
       " '__rdiv__',\n",
       " '__rdivmod__',\n",
       " '__reduce__',\n",
       " '__reduce_ex__',\n",
       " '__repr__',\n",
       " '__rfloordiv__',\n",
       " '__rlshift__',\n",
       " '__rmod__',\n",
       " '__rmul__',\n",
       " '__ror__',\n",
       " '__rpow__',\n",
       " '__rrshift__',\n",
       " '__rshift__',\n",
       " '__rsub__',\n",
       " '__rtruediv__',\n",
       " '__rxor__',\n",
       " '__setattr__',\n",
       " '__sizeof__',\n",
       " '__str__',\n",
       " '__sub__',\n",
       " '__subclasshook__',\n",
       " '__truediv__',\n",
       " '__trunc__',\n",
       " '__xor__',\n",
       " 'bit_length',\n",
       " 'conjugate',\n",
       " 'denominator',\n",
       " 'imag',\n",
       " 'numerator',\n",
       " 'real']"
      ]
     },
     "execution_count": 52,
     "metadata": {},
     "output_type": "execute_result"
    }
   ],
   "source": [
    "dir(7)\n"
   ]
  },
  {
   "cell_type": "code",
   "execution_count": 58,
   "metadata": {},
   "outputs": [
    {
     "ename": "AttributeError",
     "evalue": "attribute 'real' of 'int' objects is not writable",
     "output_type": "error",
     "traceback": [
      "\u001b[0;31m---------------------------------------------------------------------------\u001b[0m",
      "\u001b[0;31mAttributeError\u001b[0m                            Traceback (most recent call last)",
      "\u001b[0;32m<ipython-input-58-efda6807b4ad>\u001b[0m in \u001b[0;36m<module>\u001b[0;34m()\u001b[0m\n\u001b[1;32m      1\u001b[0m \u001b[0;34m(\u001b[0m\u001b[0;36m7\u001b[0m\u001b[0;34m)\u001b[0m\u001b[0;34m.\u001b[0m\u001b[0mreal\u001b[0m\u001b[0;34m\u001b[0m\u001b[0m\n\u001b[1;32m      2\u001b[0m \u001b[0ma\u001b[0m\u001b[0;34m=\u001b[0m\u001b[0;36m7\u001b[0m\u001b[0;34m\u001b[0m\u001b[0m\n\u001b[0;32m----> 3\u001b[0;31m \u001b[0ma\u001b[0m\u001b[0;34m.\u001b[0m\u001b[0mreal\u001b[0m \u001b[0;34m=\u001b[0m \u001b[0;36m8\u001b[0m\u001b[0;34m\u001b[0m\u001b[0m\n\u001b[0m\u001b[1;32m      4\u001b[0m \u001b[0;32mclass\u001b[0m \u001b[0mmy_int\u001b[0m\u001b[0;34m(\u001b[0m\u001b[0mint\u001b[0m\u001b[0;34m)\u001b[0m\u001b[0;34m:\u001b[0m\u001b[0;34m\u001b[0m\u001b[0m\n\u001b[1;32m      5\u001b[0m     \u001b[0;32mpass\u001b[0m\u001b[0;34m\u001b[0m\u001b[0m\n",
      "\u001b[0;31mAttributeError\u001b[0m: attribute 'real' of 'int' objects is not writable"
     ]
    }
   ],
   "source": [
    "(7).real\n",
    "a=7\n",
    "a.real = 8 # fails unless I wrap an immutable class into my own mutable class.\n",
    "class my_int(int):\n",
    "    pass\n"
   ]
  },
  {
   "cell_type": "markdown",
   "metadata": {},
   "source": [
    "Q: write code to get the job done, what is the 2nd objective.\n",
    "A: readibility.--> turns into maintainable code. "
   ]
  },
  {
   "cell_type": "code",
   "execution_count": 59,
   "metadata": {
    "collapsed": true
   },
   "outputs": [],
   "source": [
    "'''Write a function that will add to the total that you have. \n",
    "    you can give it a total, but defaults to 0'''\n",
    "\n",
    "def add_to(value, total=0):\n",
    "    total += value\n",
    "    return total"
   ]
  },
  {
   "cell_type": "code",
   "execution_count": 75,
   "metadata": {
    "collapsed": true
   },
   "outputs": [],
   "source": [
    "#now a class that does the same:\n",
    "class add_to_class(object):\n",
    "    def __init__(self, total=0):\n",
    "        self.total = total\n",
    "        \n",
    "    def add_to(self, value):\n",
    "        self.total += value"
   ]
  },
  {
   "cell_type": "code",
   "execution_count": 76,
   "metadata": {
    "collapsed": true
   },
   "outputs": [],
   "source": [
    "x = add_to_class(7)"
   ]
  },
  {
   "cell_type": "code",
   "execution_count": 77,
   "metadata": {},
   "outputs": [
    {
     "data": {
      "text/plain": [
       "7"
      ]
     },
     "execution_count": 77,
     "metadata": {},
     "output_type": "execute_result"
    }
   ],
   "source": [
    "x.total"
   ]
  },
  {
   "cell_type": "code",
   "execution_count": 78,
   "metadata": {
    "collapsed": true
   },
   "outputs": [],
   "source": [
    "add_to_class().add_to(2)\n",
    "# this instantiates a class and runs a method, \n",
    "#but does not save the variable. \n",
    "#because the instantiation is not saved to a variable anywhere.\n"
   ]
  },
  {
   "cell_type": "code",
   "execution_count": 79,
   "metadata": {
    "collapsed": true
   },
   "outputs": [],
   "source": [
    "a = add_to_class().add_to(2) \n",
    "# this instantiates a class, runs the function,\n",
    "# and the return of the function add_to since it does not return anything \n",
    "# a is empty.\n",
    "# the class is then removed from memory.\n"
   ]
  },
  {
   "cell_type": "markdown",
   "metadata": {},
   "source": [
    "Q: what are the key python language construct? syntax and usage\n",
    "\n",
    "A:\n",
    "- interpreted\n",
    "- object oriented\n",
    "- white space\n",
    "- default parameters\n",
    "- tuples\n",
    "- methods and attributes for classes\n",
    "- parameters and arguments\n",
    "- lambda functions\n",
    "- *args, **kwargs\n",
    "- del - removes item from memory\n",
    "- while loops\n",
    "- modules\n",
    "- importing modules\n",
    "- json\n",
    "- error handling\n",
    "- dynamic language, the variables can change from type to type without explicitly typing them up front. "
   ]
  }
 ],
 "metadata": {
  "kernelspec": {
   "display_name": "Python 3",
   "language": "python",
   "name": "python3"
  },
  "language_info": {
   "codemirror_mode": {
    "name": "ipython",
    "version": 3
   },
   "file_extension": ".py",
   "mimetype": "text/x-python",
   "name": "python",
   "nbconvert_exporter": "python",
   "pygments_lexer": "ipython3",
   "version": "3.6.1"
  }
 },
 "nbformat": 4,
 "nbformat_minor": 2
}
