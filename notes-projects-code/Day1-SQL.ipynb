{
 "cells": [
  {
   "cell_type": "markdown",
   "metadata": {},
   "source": [
    "Lauren Questions:\n",
    "\n",
    "\n",
    "1. What is a primary key:\n",
    "    -foreign key - primary key from another table in current table\n",
    "- candidate keys any field that might be useful as a key (ssn, employee name, etc. id #\n",
    "\n",
    "d. composite key - series fo fields that together uniquely id a row (you don't have to have a primary key\n",
    "e. super key - you have a key already (primary key or composit key) which already uniquely ids everything, then add onto it superkey (ssn, and name)\n",
    "\n",
    "2. select second largets salary\n",
    "- SELECT salary FROM employee ORDER BY salaary DESC LIMIT 1 OFFSET 1;\n",
    "- offset skips the first few rows specified by #\n",
    "- offset happens first, then limit happens\n",
    "- could be a tie for first meaning I may only received the first salary = x when there are realy 10 = x\n",
    "3) how to get the nth larjgest salary\n",
    "    - SELECT DISTINCT salary FROM employee ORDER BY SALAERY desc limit 1 OFFSET n-1;\n",
    "    n-1 because if you wanted 3rd, you would get the r 4th row. \n",
    "4) how could you do this 2nd largest salary without limit or offset\n",
    "- no ordering , limiting, offset\n",
    "- SELECT MAX(salary) FROM employee WHERE salary IS NOT (SELECT MAX(salary) FROM employee);\n",
    "5) retrun every salary except the max salary\n",
    "- SELECT salary FROM employee WHERE salary IS NOT (SELECT MAX(salary) FROM employee);\n",
    "6) bonus questions: find all of the rows that duplicate info across all columns:\n",
    "- SELECT salary  FROM employee GROUP BY employee_id, salary HAVING COUNT(employee_id, salary) >1;\n",
    "\n",
    "\n",
    "\n",
    "\n"
   ]
  },
  {
   "cell_type": "markdown",
   "metadata": {},
   "source": [
    "Jamie\n",
    "\n",
    "1. What is database normalization: \n",
    "- No dulication of information and more effiecine for space\n",
    "\n",
    "Q: use the manager_id field in the employee table to find which manager manage more than n employees\n",
    "\n",
    "- SELECT manager_ID FROM employee GROUP BY manager_id HAVING COUNT(manager_ID)>n;\n",
    "\n",
    "Q: use the employee)id and manager id to show all all the mangaers and their employes:\n",
    "\n",
    "- SELECT manager_id, employee_id from employee ORDER BY manager_id;\n",
    "\n",
    "Q: use the employee)id and manager id to show all all the mangaers and their employes as well as a count of their emplyees:\n",
    "\n",
    "`this works: `\n",
    "SELECT e1.id, e2.id  FROM employee e1 join EMPLOYEE e2 ON e1.id = e2.manager_id\n",
    "`very likely question for interview:`\n",
    "\n",
    "`alternative: but does not include manager id info`\n",
    "select count distinct (employee_id), manager_id from employee group by mangager_id;\n",
    "\n",
    "\n",
    "Q: give me a list of all emplyees who are not mangers:\n",
    "select employee_id from employee where emplyee_id not in (select manager_id from manager);\n",
    "\n",
    "select employee_id from employee left join manager on employee_id = manager_id where manager_id = NULL\n",
    "\n",
    "Q: get the names of all employees reporting to managers who manage more than n employees;\n",
    "\n",
    "- s(SELECT m.manager_id FROM employees m GROUP BY employee_id HAVING COUNT(employee_id) >n) m;\n",
    "\n",
    "CREATE TEMPORARY TABLE t1 AS\n",
    "(SELECT COUNT DISTINCT(employee_id) as c, manager_id FROM employee GROUP BY \n",
    "\n",
    "\n"
   ]
  },
  {
   "cell_type": "markdown",
   "metadata": {},
   "source": [
    "Michael\n",
    "\n",
    "Q: what's an rdbms - Relational Database management system \n",
    "Q A- Atomic - All information is sent to the DB at once.\n",
    "C - Consistent  - legal state to legal state. \n",
    "I - Isolation - makes sure only work required is performed on minimal data or tables. \n",
    "D - Durabability - db is left in a state everyone can use afterwards. Non\n",
    "\n",
    "Schema: catalog table : product_id and name_field, sales table prod_id \n",
    "Q: which items (catalog.name) have sold thus far\n",
    "\n",
    "- SELECT DISTINCT product_name from catalog join sales on catalog.product_id = sales.product_id; \n",
    "\n",
    "** Without using DISTINCT:\n",
    "- SELECT product_name from catalog join sales on catalog.product_id = sales.product_id GROUP BY product_name; \n",
    "\n",
    "\n",
    "[[QUESTION do i need parentheses after distinct]]\n",
    "\n",
    "Q: Show the products that haven;t sold\n",
    "\n",
    "- SELECT  product_name from catalog LEFT join sales on catalog.product_id = sales.product_id WHERE sales.product_id IS NULL;\n",
    "\n",
    "Q: using sales.date find all products with the letter 's' that have sold in the month of november 2015\n",
    "\n",
    "`Check left syntax\n",
    "- SELECT DISTINCT product_name from catalog join sales on catalog.product_id = sales.product_id WHERE LEFT(product_name,1) = 'S' AND to_date(sales.date, 'month') = '11' and to_date(sales.date, 'year') = '2015'\n",
    "\n",
    "`This works\n",
    "- SELECT DISTINCT product_name from catalog join sales on catalog.product_id = sales.product_id WHERE product_name LIKE 'S%' AND to_date(sales.date, 'month') = '11' and to_date(sales.date, 'year') = '2015'\n",
    "\n",
    "`This works\n",
    "- SELECT DISTINCT product_name from catalog join sales on catalog.product_id = sales.product_id \n",
    "    WHERE (product_name LIKE 'S%') \n",
    "     AND (sales.date between to_date(\"01 11 2015\", DD Mon YYYY) and to_date(\"30 11 2015\", DD Mon YYYY));\n",
    "`\n",
    "Q: List all SQL Known\n",
    "\n",
    "SELECT \n",
    "aggregation: MAX, MIN, AVG, COUNT DISTINCT, \n",
    "TRANSFORMATION: TODATE, CONCAT(), \n",
    "JOIN LEFT, RIGHT, INNER OUTER\n",
    "WHERE\n",
    "HAVING\n",
    "UNION \n",
    "GROUP BY\n",
    "BETWEEN\n",
    "LIKE\n",
    "ILIKE\n",
    "SUM()\n",
    "SUBSTR()\n",
    "ORDER BY\n",
    "LIMIT\n",
    "OFFSET\n",
    "CASE WHEN THEN ELSE END\n",
    "COALESCE(default val) col with missing values substititute a value \n",
    "CAST - row by row\n",
    "ROUND() \n",
    "UPPER\n",
    "IN and NOT IN\n",
    "\n",
    "OVER - windowing: (PARTITION BY Dept_ID ORDER BY Salary DESC) \n",
    "RANK() adds another column this is like an aggregation function but returns all columns based on partition. There are many other functions to use with OVER...\n",
    "\n",
    "Anytime we have a subquery, we must alias it straight away.\n"
   ]
  },
  {
   "cell_type": "markdown",
   "metadata": {},
   "source": [
    "Windowing: \n",
    "\n",
    "OVER (PARTITION BY Dept_ID ORDER BY Salary DESC)"
   ]
  },
  {
   "cell_type": "code",
   "execution_count": null,
   "metadata": {
    "collapsed": true
   },
   "outputs": [],
   "source": []
  },
  {
   "cell_type": "markdown",
   "metadata": {},
   "source": [
    "- a\n",
    "    - 1\n",
    "    - 2\n",
    "    \n",
    "- b\n",
    "\n",
    "##### hello\n",
    "[weblink](http://www.google.com)\n",
    "\n",
    "1. a\n",
    "<br>\n",
    "    write text here:\n",
    "\n",
    "<!-- 2. b\n",
    "\n",
    "    `tics become code` <br>\n",
    "    ` 3 = 4` <br>\n",
    "-->\n",
    "\n",
    "3. c\n",
    "\n",
    "\n"
   ]
  },
  {
   "cell_type": "code",
   "execution_count": 2,
   "metadata": {},
   "outputs": [],
   "source": [
    "def generator_name(message=\"hello\"):\n",
    "    for letter in message:\n",
    "        yield letter\n",
    "\n",
    "# instantiated    \n",
    "a = generator_name()"
   ]
  },
  {
   "cell_type": "code",
   "execution_count": 8,
   "metadata": {},
   "outputs": [
    {
     "ename": "StopIteration",
     "evalue": "",
     "output_type": "error",
     "traceback": [
      "\u001b[0;31m---------------------------------------------------------------------------\u001b[0m",
      "\u001b[0;31mStopIteration\u001b[0m                             Traceback (most recent call last)",
      "\u001b[0;32m<ipython-input-8-3f6e2eea332d>\u001b[0m in \u001b[0;36m<module>\u001b[0;34m()\u001b[0m\n\u001b[0;32m----> 1\u001b[0;31m \u001b[0mnext\u001b[0m\u001b[0;34m(\u001b[0m\u001b[0ma\u001b[0m\u001b[0;34m)\u001b[0m\u001b[0;34m\u001b[0m\u001b[0m\n\u001b[0m",
      "\u001b[0;31mStopIteration\u001b[0m: "
     ]
    }
   ],
   "source": [
    "next(a)"
   ]
  },
  {
   "cell_type": "code",
   "execution_count": null,
   "metadata": {
    "collapsed": true
   },
   "outputs": [],
   "source": [
    "#function vs. a class"
   ]
  },
  {
   "cell_type": "code",
   "execution_count": 17,
   "metadata": {},
   "outputs": [
    {
     "ename": "TypeError",
     "evalue": "unsupported operand type(s) for +: 'int' and 'str'",
     "output_type": "error",
     "traceback": [
      "\u001b[0;31m---------------------------------------------------------------------------\u001b[0m",
      "\u001b[0;31mTypeError\u001b[0m                                 Traceback (most recent call last)",
      "\u001b[0;32m<ipython-input-17-1a7bdf098a3d>\u001b[0m in \u001b[0;36m<module>\u001b[0;34m()\u001b[0m\n\u001b[1;32m     24\u001b[0m \u001b[0;34m\u001b[0m\u001b[0m\n\u001b[1;32m     25\u001b[0m \u001b[0mx\u001b[0m \u001b[0;34m=\u001b[0m \u001b[0mObjectName\u001b[0m\u001b[0;34m(\u001b[0m\u001b[0;36m12\u001b[0m\u001b[0;34m)\u001b[0m\u001b[0;34m\u001b[0m\u001b[0m\n\u001b[0;32m---> 26\u001b[0;31m \u001b[0;32mprint\u001b[0m \u001b[0mx\u001b[0m\u001b[0;34m+\u001b[0m\u001b[0;34m'1'\u001b[0m\u001b[0;34m\u001b[0m\u001b[0m\n\u001b[0m\u001b[1;32m     27\u001b[0m \u001b[0;34m\u001b[0m\u001b[0m\n\u001b[1;32m     28\u001b[0m \u001b[0;34m\u001b[0m\u001b[0m\n",
      "\u001b[0;32m<ipython-input-17-1a7bdf098a3d>\u001b[0m in \u001b[0;36m__add__\u001b[0;34m(self, to_be_added)\u001b[0m\n\u001b[1;32m      6\u001b[0m \u001b[0;34m\u001b[0m\u001b[0m\n\u001b[1;32m      7\u001b[0m     \u001b[0;32mdef\u001b[0m \u001b[0m__add__\u001b[0m\u001b[0;34m(\u001b[0m\u001b[0mself\u001b[0m\u001b[0;34m,\u001b[0m \u001b[0mto_be_added\u001b[0m\u001b[0;34m)\u001b[0m\u001b[0;34m:\u001b[0m\u001b[0;34m\u001b[0m\u001b[0m\n\u001b[0;32m----> 8\u001b[0;31m         \u001b[0;32mreturn\u001b[0m \u001b[0mself\u001b[0m\u001b[0;34m.\u001b[0m\u001b[0mstuff\u001b[0m \u001b[0;34m+\u001b[0m \u001b[0mto_be_added\u001b[0m\u001b[0;34m\u001b[0m\u001b[0m\n\u001b[0m\u001b[1;32m      9\u001b[0m \u001b[0;34m\u001b[0m\u001b[0m\n\u001b[1;32m     10\u001b[0m \u001b[0;34m\u001b[0m\u001b[0m\n",
      "\u001b[0;31mTypeError\u001b[0m: unsupported operand type(s) for +: 'int' and 'str'"
     ]
    }
   ],
   "source": [
    "class ObjectName(object): #<-- wEiRd inheritance syntax\n",
    "    variable = 1\n",
    "    \n",
    "    def __init__(self, init_params):\n",
    "        self.stuff = init_params\n",
    "\n",
    "    def __add__(self, to_be_added):  # <-- operator overloading\n",
    "        return self.stuff + to_be_added\n",
    "\n",
    "    def f(self, par):\n",
    "        return par\n",
    "    \n",
    "# #ver 1\n",
    "# x = ObjectName(12)\n",
    "# print x.stuff\n",
    "# print x.variable\n",
    "# x.variable = 2\n",
    "# print x.variable\n",
    "\n",
    "# #ver 2\n",
    "# print ObjectName.variable\n",
    "# ObjectName.variable = 3\n",
    "# print ObjectName.variable\n",
    "\n",
    "# dir(x)\n",
    "\n",
    "x = ObjectName(12)\n",
    "print x\n",
    "\n",
    "x+3 # x=self.__add__(self, 3)\n",
    "\n",
    "x.f(3) # x-self.f(3) f(self,3) <-- argument to itself\n",
    "\n",
    "\n"
   ]
  },
  {
   "cell_type": "code",
   "execution_count": 14,
   "metadata": {},
   "outputs": [
    {
     "data": {
      "text/plain": [
       "'ab'"
      ]
     },
     "execution_count": 14,
     "metadata": {},
     "output_type": "execute_result"
    }
   ],
   "source": [
    "#overlaoding\n",
    "\"a\"+ \"b\""
   ]
  },
  {
   "cell_type": "code",
   "execution_count": 15,
   "metadata": {},
   "outputs": [
    {
     "data": {
      "text/plain": [
       "3"
      ]
     },
     "execution_count": 15,
     "metadata": {},
     "output_type": "execute_result"
    }
   ],
   "source": [
    "1+2"
   ]
  },
  {
   "cell_type": "code",
   "execution_count": null,
   "metadata": {
    "collapsed": true
   },
   "outputs": [],
   "source": [
    "# the __init__ function is an example of overloading.\n",
    "# "
   ]
  },
  {
   "cell_type": "code",
   "execution_count": 18,
   "metadata": {},
   "outputs": [
    {
     "data": {
      "text/plain": [
       "2"
      ]
     },
     "execution_count": 18,
     "metadata": {},
     "output_type": "execute_result"
    }
   ],
   "source": [
    "lf = lambda x: x+1\n",
    "lf(1)"
   ]
  },
  {
   "cell_type": "code",
   "execution_count": 19,
   "metadata": {
    "collapsed": true
   },
   "outputs": [],
   "source": [
    "def f():\n",
    "    return a\n",
    "\n",
    "#local environments can search for variables in global or parent environments\n"
   ]
  },
  {
   "cell_type": "code",
   "execution_count": 22,
   "metadata": {},
   "outputs": [
    {
     "data": {
      "text/plain": [
       "'scottscott'"
      ]
     },
     "execution_count": 22,
     "metadata": {},
     "output_type": "execute_result"
    }
   ],
   "source": [
    "# shows polymorphism:\n",
    "# this is the idea of oop.\n",
    "\n",
    "def f(par):\n",
    "    arg=par\n",
    "    return 2*arg\n",
    "\n",
    "def g(val, func):\n",
    "    return func(val) \n",
    "\n",
    "arg2 = \"scott\"\n",
    "g(arg2, f)"
   ]
  },
  {
   "cell_type": "code",
   "execution_count": 23,
   "metadata": {
    "collapsed": true
   },
   "outputs": [],
   "source": [
    "def g(times):\n",
    "    \n",
    "    def f(par):\n",
    "        arg = par + \" \"\n",
    "        retun (arg*times)"
   ]
  },
  {
   "cell_type": "code",
   "execution_count": 24,
   "metadata": {},
   "outputs": [
    {
     "name": "stdout",
     "output_type": "stream",
     "text": [
      "start func wrap\n",
      "end func wrap\n",
      "start func wrap\n",
      "end func wrap\n"
     ]
    },
    {
     "data": {
      "text/plain": [
       "'scottscott'"
      ]
     },
     "execution_count": 24,
     "metadata": {},
     "output_type": "execute_result"
    }
   ],
   "source": [
    "#decorator is syntactic sugar\n",
    "def two_multiplier(f):\n",
    "    print (\"start func wrap\")\n",
    "    def wrapper(par):\n",
    "        return 2*f(par)\n",
    "    print \"end func wrap\"\n",
    "    return wrapper\n",
    "\n",
    "\n",
    "@two_multiplier #this says wrap around the next function called in this case plug in the func(par) as f in two_multiplier\n",
    "def func(par):\n",
    "    return par\n",
    "\n",
    "@two_multiplier\n",
    "def get_last(par):\n",
    "    return par[-1]\n",
    "\n",
    "func(\"scott\")"
   ]
  },
  {
   "cell_type": "markdown",
   "metadata": {},
   "source": [
    "decorators: a fun way to extend a functions effect\n",
    "- closure: freezing functions versus recursively OOP behavior\n"
   ]
  },
  {
   "cell_type": "markdown",
   "metadata": {},
   "source": [
    "# Today's Topics\n",
    "\n",
    "- function/generator\n",
    "- function/class\n",
    "- scope\n",
    "- mutability\n",
    "\n",
    "- polymorphism\n",
    "    - idea polymorph: different ideas treated similarly\n",
    "    - stuff polymorph: \n",
    "        - explicit reuse of code\n",
    "        - inheritance\n",
    "    - program reuse\n",
    "        \n",
    "    - function overwriting (when we overwrite the function with new set of steps) / operator overloading (when i can use the same symbol in multiple scenarios. )\n",
    "    \n",
    "- lambda functions\n",
    "\n",
    "- scope\n",
    "\n",
    "- composition vs. inheritance\n",
    "\n",
    "\n",
    "\n",
    "\"everything in python is a first class object\"\n",
    "    - can have a function referenced as an object\n",
    "\"interpreted vs. compiled languages...\"\n",
    "\n",
    "- closure: is once the arguments are passed into a function and it returns a function then those arguments are fixed when they are assigned to a variable. no longer able able to modify because the code is closed to new change.\n",
    "- closure gives you the ability to do polymorphism more efficiently\n",
    "- code that makes code\n",
    "\n",
    "\n",
    "blog composition, inheritance, \n",
    "\n",
    "I'm going to teach you OOP using these examples: pithy please...\n",
    "with some example exercises "
   ]
  },
  {
   "cell_type": "code",
   "execution_count": null,
   "metadata": {
    "collapsed": true
   },
   "outputs": [],
   "source": [
    "# inheritance\n",
    "class Venue (object):\n",
    "    \n",
    "    def __init__(self, state, city, stadium):\n",
    "        self.city = city\n",
    "        self.stadium = stadium\n",
    "        self.state = state\n",
    "        \n",
    "        \n",
    "class Team (Venue):\n",
    "    def __init__(self, state, city, stadium, name):\n",
    "        super(Team, self).__init__(state, city, stadium)\n",
    "        self.name=name\n"
   ]
  },
  {
   "cell_type": "code",
   "execution_count": 32,
   "metadata": {},
   "outputs": [],
   "source": [
    "# composition \n",
    "class Venue (object):\n",
    "    \n",
    "    def __init__(self, state, city, stadium):\n",
    "        self.city = city\n",
    "        self.stadium = stadium\n",
    "        self.state = state\n",
    "        \n",
    "        \n",
    "class Team (Venue):\n",
    "    def __init__(self, state, city, stadium, name):\n",
    "        super(Team, self).__init__(state, city, stadium)\n",
    "        self.name=name\n",
    "        \n",
    "class NFL(object):\n",
    "    def __init__(self):\n",
    "        teams = []\n",
    "        \n",
    "    def add_teams(team):\n",
    "        teams.append(team)\n"
   ]
  },
  {
   "cell_type": "code",
   "execution_count": 31,
   "metadata": {},
   "outputs": [
    {
     "name": "stdout",
     "output_type": "stream",
     "text": [
      "ny\n",
      "giants\n"
     ]
    }
   ],
   "source": [
    "v = Venue(\"ny\", \"ny\", \"grassyfield\")\n",
    "print v.city\n",
    "\n",
    "t = Team(\"ny\", \"ny\", \"grassyfield\", \"giants\")\n",
    "print t.name\n",
    "\n"
   ]
  },
  {
   "cell_type": "code",
   "execution_count": null,
   "metadata": {
    "collapsed": true
   },
   "outputs": [],
   "source": []
  }
 ],
 "metadata": {
  "kernelspec": {
   "display_name": "Python 2",
   "language": "python",
   "name": "python2"
  },
  "language_info": {
   "codemirror_mode": {
    "name": "ipython",
    "version": 2
   },
   "file_extension": ".py",
   "mimetype": "text/x-python",
   "name": "python",
   "nbconvert_exporter": "python",
   "pygments_lexer": "ipython2",
   "version": "2.7.13"
  }
 },
 "nbformat": 4,
 "nbformat_minor": 2
}
