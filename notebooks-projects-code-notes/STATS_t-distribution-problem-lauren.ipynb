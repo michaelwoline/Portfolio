{
 "cells": [
  {
   "cell_type": "code",
   "execution_count": null,
   "metadata": {
    "collapsed": true
   },
   "outputs": [],
   "source": []
  },
  {
   "cell_type": "markdown",
   "metadata": {},
   "source": [
    "### Question: \n",
    "- suppose you have a sample of size 4 from a population with mean $\\mu_X = 10$. \n",
    "- What's the probability that $\\bar X < 9.9$? (i.e. $Pr(\\bar X = \\bar x) < 9.9$)\n",
    "\n",
    "    - Lauren: assume $X_i \\overset{\\tiny i.i.d.}{\\sim} N(\\mu_X, \\sigma_X), \\text{for} \\; i=1, \\cdots, n, \\; \\bar X = \\frac{1}{n}\\sum_{i=1}^n X_i $ "
   ]
  },
  {
   "cell_type": "markdown",
   "metadata": {},
   "source": [
    "#### Michael Answer: \n",
    "- my first answer: confidence interval of 9.9 +- t 9.75 df=3 \n",
    "- my 2nd answer:\n",
    "    - plug in values to: \n",
    "        - $\\bar X$ = 9.9 - $\\mu_x$ = 10 \n",
    "        - $s^2$ = ?? or maybe if the distribution is normalized I use .95 * 1 - std\n",
    "        - n = 4\n",
    "\n",
    "- $\\bar X$ is normally distributed if $X_i$ 's are normally distributed\n",
    "- if data fails to be normlally distributed then $\\bar X$ will be approximately normally distributed, with increasing accuracy of approximation as sample size is larger.\n",
    " "
   ]
  },
  {
   "cell_type": "markdown",
   "metadata": {},
   "source": [
    "#### Important:\n",
    "- Since $X_i$'s are normally distributed\n",
    "\n",
    "    - $\\bar X \\sim t_{t-1}\\left(E[\\bar X] = \\mu_X, Var[\\bar X] = \\frac{\\sigma_s^2}{n}\\right)$\n",
    "        - $\\frac{\\bar X-\\mu_X}{\\frac{\\sigma_X}{\\sqrt{n}}} \\sim N(0,1)$\n",
    "    - $\\frac{\\bar X-\\mu_X}{\\sqrt{\\frac{\\frac{\\sum_i=1^n(X_i - \\bar X)^2}{n-1}}{n}}} = \\frac{\\bar X-\\mu_X}{\\sqrt{\\frac{S^2}{n}}} = $<p style=\"color:red\">$\\frac{\\bar X-\\mu_X}{\\frac{S}{\\sqrt{n}}}  \\sim t_{n-1} \\quad (3.5)$</p> \n",
    "        - the importance here is we plug in s for sigma and the result is we get a t-dist.  it makes the t-dist. \n",
    "        - <p style=\"color:red\"> Not $\\bar X \\sim t_{t-1}\\left(E[\\bar X] = \\mu_X, Var[\\bar X] = \\frac{\\sigma_s^2}{n}\\right)$ </p>\n",
    "        - t-distribution is traditionally viewed as having NO scale or location parameters -- we use the \"so-called\" \"standard\" t distribution which is located at 0 and has a variance which is solely the function of the *only* parameter of the t-distribution -- the *degrees of freedom* $(n-1)$.\n",
    "            - why is this all this way? well... we get to the t-distribution through a \"standardized $\\bar X$. Since it's standardized\" we know it has a standard location (0) and that it has a standard scale (1), but of course the uncertainty (variance) is not \"1\" since we have to *estimate it from the sample.*\n",
    "- uncertainty is caused when we use S^2 there is variance in our sample, so we have uncertainty, which moves to the tails of the t-dist.\n"
   ]
  },
  {
   "cell_type": "markdown",
   "metadata": {},
   "source": [
    "#### Lauren Answer:\n",
    "\n",
    "- Distributions (III)\n",
    "    - pdf (continuous) (relative frequency) (3)\n",
    "        - $X \\sim Normal (E[X]=\\mu, Var[X]=\\sigma^2)$ - (4)\n",
    "        - $X \\sim t_{df}$ - (2)\n",
    "            - $df$ (degrees of freedom) is the single parameter of the t distribution which controls the \"heaviness\" of the tails of the distribution\n",
    "            - the t is centered on 0\n",
    "            - the t has no free parameter defining it's spread (but it changes as a function of df)\n",
    "            - the t distribution arises from the following scenario:\n",
    "            - \"standardized\" the random variable $$\\frac{\\bar X-\\mu_X}{\\sqrt{\\frac{\\frac{\\sum_{i=1}^n(X_i - \\bar X)^2}{n-1}}{n}}} \\sim t_{n-1}$$ (1)\n",
    "            \n",
    "                - sample of size 4 - CLT does not yet work, need to use t distribution. If we have a small n... must assume that the sample comes from a normal distribution ($X$), then use the t-distribution (for $\\bar X$). If you cannot assume normality $\\rightarrow$ bootstrapping.\n",
    "                - so... use the t-distribution. CDF.\n",
    "                - $\\bar X$ is normally distributed if $X_i$'s are normally distributed\n",
    "                - if data fails to be normally distributed, then $\\bar X$ will be approximately normally distributed, with increasing accuracy of approximation as sample size is larger \n",
    "                - cdf = $Pr(-\\infty < \\bar X < 9.9) = \\int_{-\\infty}^{9.9} f(\\bar X= \\bar x) d \\bar x$\n",
    "                - $f(\\bar X=\\bar x) \\rightarrow f \\left(\\frac{\\bar X - \\mu_x}{\\frac{S}{\\sqrt{n}}} = \\frac{\\bar x - \\mu_x}{\\frac{s}{\\sqrt{n}}} \\right)$\n",
    "                    - $f(\\bar X=\\bar x)$ - by definition will be normally distributed (because $X$ is normally distributed).\n",
    "                    - what is mean and variance of $f(\\bar X=\\bar x)$?\n",
    "                        - mean = $\\mu_X$\n",
    "                        - variance = $\\frac{\\sigma^2}{n}$\n",
    "                    - what is mean and variance of $f\\left(\\frac{\\bar X - \\mu_x}{\\frac{S}{\\sqrt{n}}} = \\frac{\\bar x - \\mu_x}{\\frac{s}{\\sqrt{n}}}\\right)$?\n",
    "                        - this (complex RV) is t-distributed\n",
    "                        - mean = $0$ (like always for t-distributions)\n",
    "                        - dof = n-1 $\\rightarrow$ n = 4, dof = 3 \n",
    "                - $Pr(-\\infty < \\bar X < 9.9) = \\int_{-\\infty}^{9.9} f(\\bar X= \\bar x) d \\bar x \\rightarrow \\Pr(-\\infty < \\frac{\\bar X - \\mu_x}{\\frac{S}{\\sqrt{n}}} < {\\frac{9.9 - \\mu_x}{\\frac{s}{\\sqrt{n}}}}) = \\int_{-\\infty}^{9.9} f\\left(\\frac{\\bar X - \\mu_x}{\\frac{S}{\\sqrt{n}}} = {\\frac{\\bar x - \\mu_x}{\\frac{s}{\\sqrt{n}}}}\\right)d \\bar x $\n",
    "                    - $\\rightarrow$ because we don't have $\\sigma^2$ and need to plug in $s^2$\n",
    "                    - this function takes outcome $\\bar x$ as input, gives us relative frequency \n",
    "                - $\\int_{-\\infty}^{9.9} f\\left(\\frac{\\bar X - \\mu_x}{\\frac{S}{\\sqrt{n}}} = {\\frac{\\bar x - \\mu_x}{\\frac{s}{\\sqrt{n}}}}\\right)d \\bar x = \\int_{-\\infty}^{\\frac{9.9 - \\mu_x}{\\frac{s}{\\sqrt{n}}}} f\\left(\\frac{\\bar X - \\mu_x}{\\frac{S}{\\sqrt{n}}} = y\\right)d y$\n",
    "                - when you do a t-distribution, you standardize the distribution to mean = 0. You can do this standardization in the outcome (option 1), or in the scale of the outcome (option 2).\n",
    "                - $S^2 = \\frac{\\sum_{i=1}^n(X_i - \\bar X)^2}{n-1}$\n",
    "                - $S = \\sqrt{\\frac{\\sum_{i=1}^n(X_i - \\bar X)^2}{n-1}}$\n",
    "                - to answer the question - you would have to actualize $S$ to $s$ (using $\\bar x$ and $x_i$'s that we do not have). But that's what you'd do.\n",
    "                - let's say... $s$ = 2\n",
    "                \n",
    "\n",
    "0 New\n"
   ]
  },
  {
   "cell_type": "markdown",
   "metadata": {},
   "source": [
    "## 2nd Question: (Hypothesis testing)\n",
    "- choose population, shoose sample size (vary different sizes, etc. and params.)\n",
    "- create a large number of repeated samples\n",
    "- calculate t-statistics using $\\mu_x$ and $s$\n",
    "- calc. proportion of these that fall in the 5% of the tails of a t-dist. \n",
    "- do the above t-stat calcs using an incorrect population mean. \n",
    "    - now what proportion fall in the 5% of the teails of t-dist."
   ]
  },
  {
   "cell_type": "code",
   "execution_count": 1,
   "metadata": {
    "collapsed": true
   },
   "outputs": [],
   "source": [
    "import scipy.stats as stats\n",
    "import numpy as np\n"
   ]
  },
  {
   "cell_type": "code",
   "execution_count": 2,
   "metadata": {
    "collapsed": true
   },
   "outputs": [],
   "source": [
    "def get_my_data(sample_size_n=20):\n",
    "    #get sample of 20 from normal dist. \n",
    "    n_samp = sample_size_n\n",
    "    samp = stats.norm.rvs(size=n_samp, loc=4, scale=12)\n",
    "\n",
    "    samp_mean = 4 # using actual distribution mean. \n",
    "    #samp_mean = samp.mean() # using the sample mean\n",
    "\n",
    "    samp_s = samp.std(ddof=1)\n",
    "\n",
    "    # standardize the dist.\n",
    "    #samp_standardized = (samp - samp_mean)/(samp_s)\n",
    "    return((samp, samp_mean, samp_s ))"
   ]
  },
  {
   "cell_type": "code",
   "execution_count": 5,
   "metadata": {},
   "outputs": [
    {
     "name": "stdout",
     "output_type": "stream",
     "text": [
      "1.95996398454 -1.95996398454\n"
     ]
    }
   ],
   "source": [
    "\n",
    "# calculate the ppf for sample.\n",
    "alpha = .05\n",
    "hi_t_rng = stats.norm.ppf(1-alpha/2) # 2 tail.\n",
    "#hi_t_rng = stats.norm.ppf(1-alpha) # one tail\n",
    "\n",
    "lo_t_rng = -1*hi_t_rng\n",
    "print (hi_t_rng, lo_t_rng)"
   ]
  },
  {
   "cell_type": "markdown",
   "metadata": {},
   "source": [
    "next is the same as $Z_\\alpha = 1$, or what is alpha? \n",
    "which equals $Z_.8413 = 1$"
   ]
  },
  {
   "cell_type": "code",
   "execution_count": 7,
   "metadata": {},
   "outputs": [
    {
     "data": {
      "text/plain": [
       "0.84134474606854293"
      ]
     },
     "execution_count": 7,
     "metadata": {},
     "output_type": "execute_result"
    }
   ],
   "source": [
    "stats.norm.cdf(1) "
   ]
  },
  {
   "cell_type": "code",
   "execution_count": 10,
   "metadata": {},
   "outputs": [
    {
     "name": "stdout",
     "output_type": "stream",
     "text": [
      "0.975\n",
      "0.99999997492\n",
      "1.0\n"
     ]
    }
   ],
   "source": [
    "print(stats.t.cdf(stats.t.ppf(1-.025, 19), df=19)) # this is the inverse of PPF\n",
    "#another example, using our norm cdf of 1.\n",
    "print (stats.norm.ppf(.84134474))\n",
    "print (stats.norm.ppf(stats.norm.cdf(1)))"
   ]
  },
  {
   "cell_type": "code",
   "execution_count": 11,
   "metadata": {
    "collapsed": true
   },
   "outputs": [],
   "source": [
    "def my_t_stat(samp, mu):\n",
    "    s = samp.std(ddof=1)\n",
    "    n = len(samp) -1\n",
    "    return ((samp.mean() - mu)/(s/np.sqrt(n)))"
   ]
  },
  {
   "cell_type": "code",
   "execution_count": 12,
   "metadata": {
    "collapsed": true
   },
   "outputs": [],
   "source": [
    "def my_list_ratio(pick_mu=4, sample_size_n=20, ratio_repeat = 500):\n",
    "\n",
    "    list_ratio_fails = []\n",
    "    min_mu = pick_mu -20\n",
    "    max_mu = pick_mu +20\n",
    "    steps= 75\n",
    "    \n",
    "    mu_support = np.linspace(min_mu, max_mu, steps)\n",
    "\n",
    "    for mu_to_try in mu_support:\n",
    "        success = 0\n",
    "        fail = 0\n",
    "        for x in range(ratio_repeat):\n",
    "            samp, samp_mean, samp_s = get_my_data(sample_size_n)\n",
    "            samp_mean = mu_to_try\n",
    "            t_val = my_t_stat(samp, samp_mean)\n",
    "\n",
    "            if t_val > lo_t_rng and t_val < hi_t_rng:\n",
    "                success +=1\n",
    "            else:\n",
    "                fail+=1\n",
    "\n",
    "\n",
    "        list_ratio_fails.append(1-(fail/(fail+success)))\n",
    "    return((mu_support, list_ratio_fails))\n",
    "    "
   ]
  },
  {
   "cell_type": "code",
   "execution_count": 13,
   "metadata": {},
   "outputs": [
    {
     "data": {
      "text/html": [
       "\n",
       "    <div class=\"bk-root\">\n",
       "        <a href=\"http://bokeh.pydata.org\" target=\"_blank\" class=\"bk-logo bk-logo-small bk-logo-notebook\"></a>\n",
       "        <span id=\"08f4985d-18ea-4be6-827b-b02af19f479e\">Loading BokehJS ...</span>\n",
       "    </div>"
      ]
     },
     "metadata": {},
     "output_type": "display_data"
    },
    {
     "data": {
      "application/javascript": [
       "\n",
       "(function(global) {\n",
       "  function now() {\n",
       "    return new Date();\n",
       "  }\n",
       "\n",
       "  var force = true;\n",
       "\n",
       "  if (typeof (window._bokeh_onload_callbacks) === \"undefined\" || force === true) {\n",
       "    window._bokeh_onload_callbacks = [];\n",
       "    window._bokeh_is_loading = undefined;\n",
       "  }\n",
       "\n",
       "\n",
       "  \n",
       "  if (typeof (window._bokeh_timeout) === \"undefined\" || force === true) {\n",
       "    window._bokeh_timeout = Date.now() + 5000;\n",
       "    window._bokeh_failed_load = false;\n",
       "  }\n",
       "\n",
       "  var NB_LOAD_WARNING = {'data': {'text/html':\n",
       "     \"<div style='background-color: #fdd'>\\n\"+\n",
       "     \"<p>\\n\"+\n",
       "     \"BokehJS does not appear to have successfully loaded. If loading BokehJS from CDN, this \\n\"+\n",
       "     \"may be due to a slow or bad network connection. Possible fixes:\\n\"+\n",
       "     \"</p>\\n\"+\n",
       "     \"<ul>\\n\"+\n",
       "     \"<li>re-rerun `output_notebook()` to attempt to load from CDN again, or</li>\\n\"+\n",
       "     \"<li>use INLINE resources instead, as so:</li>\\n\"+\n",
       "     \"</ul>\\n\"+\n",
       "     \"<code>\\n\"+\n",
       "     \"from bokeh.resources import INLINE\\n\"+\n",
       "     \"output_notebook(resources=INLINE)\\n\"+\n",
       "     \"</code>\\n\"+\n",
       "     \"</div>\"}};\n",
       "\n",
       "  function display_loaded() {\n",
       "    if (window.Bokeh !== undefined) {\n",
       "      var el = document.getElementById(\"08f4985d-18ea-4be6-827b-b02af19f479e\");\n",
       "      el.textContent = \"BokehJS \" + Bokeh.version + \" successfully loaded.\";\n",
       "    } else if (Date.now() < window._bokeh_timeout) {\n",
       "      setTimeout(display_loaded, 100)\n",
       "    }\n",
       "  }\n",
       "\n",
       "  function run_callbacks() {\n",
       "    window._bokeh_onload_callbacks.forEach(function(callback) { callback() });\n",
       "    delete window._bokeh_onload_callbacks\n",
       "    console.info(\"Bokeh: all callbacks have finished\");\n",
       "  }\n",
       "\n",
       "  function load_libs(js_urls, callback) {\n",
       "    window._bokeh_onload_callbacks.push(callback);\n",
       "    if (window._bokeh_is_loading > 0) {\n",
       "      console.log(\"Bokeh: BokehJS is being loaded, scheduling callback at\", now());\n",
       "      return null;\n",
       "    }\n",
       "    if (js_urls == null || js_urls.length === 0) {\n",
       "      run_callbacks();\n",
       "      return null;\n",
       "    }\n",
       "    console.log(\"Bokeh: BokehJS not loaded, scheduling load and callback at\", now());\n",
       "    window._bokeh_is_loading = js_urls.length;\n",
       "    for (var i = 0; i < js_urls.length; i++) {\n",
       "      var url = js_urls[i];\n",
       "      var s = document.createElement('script');\n",
       "      s.src = url;\n",
       "      s.async = false;\n",
       "      s.onreadystatechange = s.onload = function() {\n",
       "        window._bokeh_is_loading--;\n",
       "        if (window._bokeh_is_loading === 0) {\n",
       "          console.log(\"Bokeh: all BokehJS libraries loaded\");\n",
       "          run_callbacks()\n",
       "        }\n",
       "      };\n",
       "      s.onerror = function() {\n",
       "        console.warn(\"failed to load library \" + url);\n",
       "      };\n",
       "      console.log(\"Bokeh: injecting script tag for BokehJS library: \", url);\n",
       "      document.getElementsByTagName(\"head\")[0].appendChild(s);\n",
       "    }\n",
       "  };var element = document.getElementById(\"08f4985d-18ea-4be6-827b-b02af19f479e\");\n",
       "  if (element == null) {\n",
       "    console.log(\"Bokeh: ERROR: autoload.js configured with elementid '08f4985d-18ea-4be6-827b-b02af19f479e' but no matching script tag was found. \")\n",
       "    return false;\n",
       "  }\n",
       "\n",
       "  var js_urls = [\"https://cdn.pydata.org/bokeh/release/bokeh-0.12.5.min.js\", \"https://cdn.pydata.org/bokeh/release/bokeh-widgets-0.12.5.min.js\"];\n",
       "\n",
       "  var inline_js = [\n",
       "    function(Bokeh) {\n",
       "      Bokeh.set_log_level(\"info\");\n",
       "    },\n",
       "    \n",
       "    function(Bokeh) {\n",
       "      \n",
       "    },\n",
       "    \n",
       "    function(Bokeh) {\n",
       "      \n",
       "      document.getElementById(\"08f4985d-18ea-4be6-827b-b02af19f479e\").textContent = \"BokehJS is loading...\";\n",
       "    },\n",
       "    function(Bokeh) {\n",
       "      console.log(\"Bokeh: injecting CSS: https://cdn.pydata.org/bokeh/release/bokeh-0.12.5.min.css\");\n",
       "      Bokeh.embed.inject_css(\"https://cdn.pydata.org/bokeh/release/bokeh-0.12.5.min.css\");\n",
       "      console.log(\"Bokeh: injecting CSS: https://cdn.pydata.org/bokeh/release/bokeh-widgets-0.12.5.min.css\");\n",
       "      Bokeh.embed.inject_css(\"https://cdn.pydata.org/bokeh/release/bokeh-widgets-0.12.5.min.css\");\n",
       "    }\n",
       "  ];\n",
       "\n",
       "  function run_inline_js() {\n",
       "    \n",
       "    if ((window.Bokeh !== undefined) || (force === true)) {\n",
       "      for (var i = 0; i < inline_js.length; i++) {\n",
       "        inline_js[i](window.Bokeh);\n",
       "      }if (force === true) {\n",
       "        display_loaded();\n",
       "      }} else if (Date.now() < window._bokeh_timeout) {\n",
       "      setTimeout(run_inline_js, 100);\n",
       "    } else if (!window._bokeh_failed_load) {\n",
       "      console.log(\"Bokeh: BokehJS failed to load within specified timeout.\");\n",
       "      window._bokeh_failed_load = true;\n",
       "    } else if (force !== true) {\n",
       "      var cell = $(document.getElementById(\"08f4985d-18ea-4be6-827b-b02af19f479e\")).parents('.cell').data().cell;\n",
       "      cell.output_area.append_execute_result(NB_LOAD_WARNING)\n",
       "    }\n",
       "\n",
       "  }\n",
       "\n",
       "  if (window._bokeh_is_loading === 0) {\n",
       "    console.log(\"Bokeh: BokehJS loaded, going straight to plotting\");\n",
       "    run_inline_js();\n",
       "  } else {\n",
       "    load_libs(js_urls, function() {\n",
       "      console.log(\"Bokeh: BokehJS plotting callback run at\", now());\n",
       "      run_inline_js();\n",
       "    });\n",
       "  }\n",
       "}(this));"
      ]
     },
     "metadata": {},
     "output_type": "display_data"
    }
   ],
   "source": [
    "import numpy as np\n",
    "from scipy import stats\n",
    "\n",
    "from bokeh.io import output_notebook, show, output_file, push_notebook\n",
    "from bokeh.plotting import figure\n",
    "\n",
    "\n",
    "# For dynamic interactive data as a dictionary\n",
    "from bokeh.models import ColumnDataSource\n",
    "\n",
    "# Widget to accept inputs to modify the graphs. \n",
    "# from bokeh.layouts import widgetbox\n",
    "from bokeh.models.widgets import Dropdown, Slider\n",
    "from ipywidgets import interact\n",
    "output_notebook()"
   ]
  },
  {
   "cell_type": "code",
   "execution_count": 14,
   "metadata": {},
   "outputs": [
    {
     "data": {
      "text/html": [
       "\n",
       "\n",
       "    <div class=\"bk-root\">\n",
       "        <div class=\"bk-plotdiv\" id=\"afec858b-d8b4-4ac6-9a0f-b565c2ad2f4c\"></div>\n",
       "    </div>\n",
       "<script type=\"text/javascript\">\n",
       "  \n",
       "  (function(global) {\n",
       "    function now() {\n",
       "      return new Date();\n",
       "    }\n",
       "  \n",
       "    var force = false;\n",
       "  \n",
       "    if (typeof (window._bokeh_onload_callbacks) === \"undefined\" || force === true) {\n",
       "      window._bokeh_onload_callbacks = [];\n",
       "      window._bokeh_is_loading = undefined;\n",
       "    }\n",
       "  \n",
       "  \n",
       "    \n",
       "    if (typeof (window._bokeh_timeout) === \"undefined\" || force === true) {\n",
       "      window._bokeh_timeout = Date.now() + 0;\n",
       "      window._bokeh_failed_load = false;\n",
       "    }\n",
       "  \n",
       "    var NB_LOAD_WARNING = {'data': {'text/html':\n",
       "       \"<div style='background-color: #fdd'>\\n\"+\n",
       "       \"<p>\\n\"+\n",
       "       \"BokehJS does not appear to have successfully loaded. If loading BokehJS from CDN, this \\n\"+\n",
       "       \"may be due to a slow or bad network connection. Possible fixes:\\n\"+\n",
       "       \"</p>\\n\"+\n",
       "       \"<ul>\\n\"+\n",
       "       \"<li>re-rerun `output_notebook()` to attempt to load from CDN again, or</li>\\n\"+\n",
       "       \"<li>use INLINE resources instead, as so:</li>\\n\"+\n",
       "       \"</ul>\\n\"+\n",
       "       \"<code>\\n\"+\n",
       "       \"from bokeh.resources import INLINE\\n\"+\n",
       "       \"output_notebook(resources=INLINE)\\n\"+\n",
       "       \"</code>\\n\"+\n",
       "       \"</div>\"}};\n",
       "  \n",
       "    function display_loaded() {\n",
       "      if (window.Bokeh !== undefined) {\n",
       "        var el = document.getElementById(\"afec858b-d8b4-4ac6-9a0f-b565c2ad2f4c\");\n",
       "        el.textContent = \"BokehJS \" + Bokeh.version + \" successfully loaded.\";\n",
       "      } else if (Date.now() < window._bokeh_timeout) {\n",
       "        setTimeout(display_loaded, 100)\n",
       "      }\n",
       "    }if ((window.Jupyter !== undefined) && Jupyter.notebook.kernel) {\n",
       "      comm_manager = Jupyter.notebook.kernel.comm_manager\n",
       "      comm_manager.register_target(\"2dd2c000-a233-41f9-8f7d-06a83838758a\", function () {});\n",
       "    }\n",
       "  \n",
       "    function run_callbacks() {\n",
       "      window._bokeh_onload_callbacks.forEach(function(callback) { callback() });\n",
       "      delete window._bokeh_onload_callbacks\n",
       "      console.info(\"Bokeh: all callbacks have finished\");\n",
       "    }\n",
       "  \n",
       "    function load_libs(js_urls, callback) {\n",
       "      window._bokeh_onload_callbacks.push(callback);\n",
       "      if (window._bokeh_is_loading > 0) {\n",
       "        console.log(\"Bokeh: BokehJS is being loaded, scheduling callback at\", now());\n",
       "        return null;\n",
       "      }\n",
       "      if (js_urls == null || js_urls.length === 0) {\n",
       "        run_callbacks();\n",
       "        return null;\n",
       "      }\n",
       "      console.log(\"Bokeh: BokehJS not loaded, scheduling load and callback at\", now());\n",
       "      window._bokeh_is_loading = js_urls.length;\n",
       "      for (var i = 0; i < js_urls.length; i++) {\n",
       "        var url = js_urls[i];\n",
       "        var s = document.createElement('script');\n",
       "        s.src = url;\n",
       "        s.async = false;\n",
       "        s.onreadystatechange = s.onload = function() {\n",
       "          window._bokeh_is_loading--;\n",
       "          if (window._bokeh_is_loading === 0) {\n",
       "            console.log(\"Bokeh: all BokehJS libraries loaded\");\n",
       "            run_callbacks()\n",
       "          }\n",
       "        };\n",
       "        s.onerror = function() {\n",
       "          console.warn(\"failed to load library \" + url);\n",
       "        };\n",
       "        console.log(\"Bokeh: injecting script tag for BokehJS library: \", url);\n",
       "        document.getElementsByTagName(\"head\")[0].appendChild(s);\n",
       "      }\n",
       "    };var element = document.getElementById(\"afec858b-d8b4-4ac6-9a0f-b565c2ad2f4c\");\n",
       "    if (element == null) {\n",
       "      console.log(\"Bokeh: ERROR: autoload.js configured with elementid 'afec858b-d8b4-4ac6-9a0f-b565c2ad2f4c' but no matching script tag was found. \")\n",
       "      return false;\n",
       "    }\n",
       "  \n",
       "    var js_urls = [];\n",
       "  \n",
       "    var inline_js = [\n",
       "      function(Bokeh) {\n",
       "        (function() {\n",
       "          var fn = function() {\n",
       "            var docs_json = {\"758b2bb1-ea0e-48d2-9f7b-a8f00c960708\":{\"roots\":{\"references\":[{\"attributes\":{\"plot\":{\"id\":\"2ee737f4-b69e-4dc4-a46f-e14cea8d8c48\",\"subtype\":\"Figure\",\"type\":\"Plot\"},\"ticker\":{\"id\":\"2fbc2055-7457-470e-8740-a0b2b4d7eea0\",\"type\":\"BasicTicker\"}},\"id\":\"288212b7-725e-4241-9bb7-b7aba13be0b5\",\"type\":\"Grid\"},{\"attributes\":{\"formatter\":{\"id\":\"ee64e05e-589c-481d-aa1a-16361fdd3e1f\",\"type\":\"BasicTickFormatter\"},\"plot\":{\"id\":\"2ee737f4-b69e-4dc4-a46f-e14cea8d8c48\",\"subtype\":\"Figure\",\"type\":\"Plot\"},\"ticker\":{\"id\":\"ca1a4222-b6cb-4851-89f8-1a3800999f58\",\"type\":\"BasicTicker\"}},\"id\":\"75d09a5b-f3a8-47e0-9455-b7bef661b6a1\",\"type\":\"LinearAxis\"},{\"attributes\":{},\"id\":\"ee64e05e-589c-481d-aa1a-16361fdd3e1f\",\"type\":\"BasicTickFormatter\"},{\"attributes\":{},\"id\":\"ca1a4222-b6cb-4851-89f8-1a3800999f58\",\"type\":\"BasicTicker\"},{\"attributes\":{\"dimension\":1,\"plot\":{\"id\":\"2ee737f4-b69e-4dc4-a46f-e14cea8d8c48\",\"subtype\":\"Figure\",\"type\":\"Plot\"},\"ticker\":{\"id\":\"ca1a4222-b6cb-4851-89f8-1a3800999f58\",\"type\":\"BasicTicker\"}},\"id\":\"6b296e25-7b8a-4310-8ef1-d2b5b978bd9f\",\"type\":\"Grid\"},{\"attributes\":{\"bottom_units\":\"screen\",\"fill_alpha\":{\"value\":0.5},\"fill_color\":{\"value\":\"lightgrey\"},\"left_units\":\"screen\",\"level\":\"overlay\",\"line_alpha\":{\"value\":1.0},\"line_color\":{\"value\":\"black\"},\"line_dash\":[4,4],\"line_width\":{\"value\":2},\"plot\":null,\"render_mode\":\"css\",\"right_units\":\"screen\",\"top_units\":\"screen\"},\"id\":\"f6be0932-94d6-4c99-b3aa-f502ba7b7b6f\",\"type\":\"BoxAnnotation\"},{\"attributes\":{\"line_alpha\":{\"value\":0.1},\"line_color\":{\"value\":\"#1f77b4\"},\"line_width\":{\"value\":3},\"x\":{\"field\":\"x\"},\"y\":{\"field\":\"y\"}},\"id\":\"a73d3e30-0de2-44f2-8ffa-9472fa3c5855\",\"type\":\"Line\"},{\"attributes\":{\"line_color\":{\"value\":\"blue\"},\"line_width\":{\"value\":3},\"x\":{\"field\":\"x\"},\"y\":{\"field\":\"y\"}},\"id\":\"ea6495fd-c115-41fe-88e5-77ce37a65c0c\",\"type\":\"Line\"},{\"attributes\":{\"plot\":{\"id\":\"2ee737f4-b69e-4dc4-a46f-e14cea8d8c48\",\"subtype\":\"Figure\",\"type\":\"Plot\"}},\"id\":\"9c980be2-a6a8-4108-ad3b-3365410a4f34\",\"type\":\"PanTool\"},{\"attributes\":{\"plot\":{\"id\":\"2ee737f4-b69e-4dc4-a46f-e14cea8d8c48\",\"subtype\":\"Figure\",\"type\":\"Plot\"}},\"id\":\"e5603673-dbe8-4d46-a40c-ce3eb21f4de7\",\"type\":\"WheelZoomTool\"},{\"attributes\":{\"overlay\":{\"id\":\"f6be0932-94d6-4c99-b3aa-f502ba7b7b6f\",\"type\":\"BoxAnnotation\"},\"plot\":{\"id\":\"2ee737f4-b69e-4dc4-a46f-e14cea8d8c48\",\"subtype\":\"Figure\",\"type\":\"Plot\"}},\"id\":\"c108d563-736c-4610-90bd-90d4433a5cae\",\"type\":\"BoxZoomTool\"},{\"attributes\":{\"plot\":{\"id\":\"2ee737f4-b69e-4dc4-a46f-e14cea8d8c48\",\"subtype\":\"Figure\",\"type\":\"Plot\"}},\"id\":\"26930233-f50e-48a1-ad31-243bd9399e4d\",\"type\":\"SaveTool\"},{\"attributes\":{\"plot\":{\"id\":\"2ee737f4-b69e-4dc4-a46f-e14cea8d8c48\",\"subtype\":\"Figure\",\"type\":\"Plot\"}},\"id\":\"02b6858a-c956-4704-a6d7-c482c5d09f4b\",\"type\":\"ResetTool\"},{\"attributes\":{},\"id\":\"60312688-227c-4747-b928-efab4a46fe2f\",\"type\":\"BasicTickFormatter\"},{\"attributes\":{\"plot\":{\"id\":\"2ee737f4-b69e-4dc4-a46f-e14cea8d8c48\",\"subtype\":\"Figure\",\"type\":\"Plot\"}},\"id\":\"700fe0df-21f8-4192-9971-c72b887d866b\",\"type\":\"HelpTool\"},{\"attributes\":{\"below\":[{\"id\":\"b32748ce-aa6c-4f8a-a67f-74308992f909\",\"type\":\"LinearAxis\"}],\"left\":[{\"id\":\"75d09a5b-f3a8-47e0-9455-b7bef661b6a1\",\"type\":\"LinearAxis\"}],\"plot_height\":300,\"renderers\":[{\"id\":\"b32748ce-aa6c-4f8a-a67f-74308992f909\",\"type\":\"LinearAxis\"},{\"id\":\"288212b7-725e-4241-9bb7-b7aba13be0b5\",\"type\":\"Grid\"},{\"id\":\"75d09a5b-f3a8-47e0-9455-b7bef661b6a1\",\"type\":\"LinearAxis\"},{\"id\":\"6b296e25-7b8a-4310-8ef1-d2b5b978bd9f\",\"type\":\"Grid\"},{\"id\":\"f6be0932-94d6-4c99-b3aa-f502ba7b7b6f\",\"type\":\"BoxAnnotation\"},{\"id\":\"2954f888-c30f-4ac2-8d07-8dc846d48f32\",\"type\":\"GlyphRenderer\"}],\"title\":{\"id\":\"34a12efd-c159-4969-bc8d-dadb3416abd1\",\"type\":\"Title\"},\"tool_events\":{\"id\":\"548e4903-f291-4362-b108-e1f0e4a12390\",\"type\":\"ToolEvents\"},\"toolbar\":{\"id\":\"22f3b3dc-4a05-471d-b942-3eeee1aa83bd\",\"type\":\"Toolbar\"},\"x_range\":{\"id\":\"c7926938-c8ca-4ec8-a887-f0bd59a50296\",\"type\":\"Range1d\"},\"y_range\":{\"id\":\"2c6ab004-1832-49e1-93bf-671eec1393b9\",\"type\":\"Range1d\"}},\"id\":\"2ee737f4-b69e-4dc4-a46f-e14cea8d8c48\",\"subtype\":\"Figure\",\"type\":\"Plot\"},{\"attributes\":{\"callback\":null,\"column_names\":[\"x\",\"y\"],\"data\":{\"x\":{\"__ndarray__\":\"AAAAAAAAMMC0bjBFPusuwGjdYIp81i3AHEyRz7rBLMDQusEU+awrwIQp8lk3mCrAN5gin3WDKcDrBlPks24owJ91gynyWSfAU+SzbjBFJsAHU+SzbjAlwLrBFPmsGyTAbjBFPusGI8Ain3WDKfIhwNYNpshn3SDAFPmsG0yRH8B81g2myGcdwOSzbjBFPhvATJHPusEUGcC0bjBFPusWwBxMkc+6wRTAginyWTeYEsDqBlPks24QwKTIZ91gigzAdIMp8lk3CMBEPusGU+QDwCjyWTeYIv+/yGfdYIp89r/AusEU+azrvwBMkc+6wdS/ALvBFPmsyz+AgynyWTfoPyBMkc+6wfQ/gNYNpshn/T9wMEU+6wYDQKB1gynyWQdA0LrBFPmsC0AAAAAAAAAQQJgin3WDKRJAMEU+6wZTFEDIZ91ginwWQGSKfNYNphhA/KwbTJHPGkCUz7rBFPkcQCzyWTeYIh9AYop81g2mIECuG0yRz7ohQPqsG0yRzyJARj7rBlPkI0CSz7rBFPkkQN5ginzWDSZAKvJZN5giJ0B2gynyWTcoQMIU+awbTClADqbIZ91gKkBaN5gin3UrQKjIZ91giixA9Fk3mCKfLUBA6wZT5LMuQIx81g2myC9A7AZT5LNuMECSz7rBFPkwQDiYIp91gzFA3mCKfNYNMkCEKfJZN5gyQCryWTeYIjNA0LrBFPmsM0B2gynyWTc0QBxMkc+6wTRAwhT5rBtMNUBo3WCKfNY1QA6myGfdYDZAtG4wRT7rNkBaN5gin3U3QAAAAAAAADhA\",\"dtype\":\"float64\",\"shape\":[75]},\"y\":[0.0,0.0,0.0,0.0,0.0,0.0,0.0,0.0,0.0,0.0020000000000000018,0.0040000000000000036,0.0,0.0020000000000000018,0.0020000000000000018,0.006000000000000005,0.01200000000000001,0.026000000000000023,0.03600000000000003,0.050000000000000044,0.06000000000000005,0.10799999999999998,0.14,0.15000000000000002,0.22399999999999998,0.29200000000000004,0.356,0.43799999999999994,0.5,0.548,0.648,0.724,0.79,0.8280000000000001,0.864,0.914,0.916,0.94,0.9339999999999999,0.944,0.9339999999999999,0.894,0.856,0.8140000000000001,0.77,0.71,0.646,0.53,0.516,0.42000000000000004,0.346,0.244,0.23399999999999999,0.14400000000000002,0.118,0.08599999999999997,0.06000000000000005,0.038000000000000034,0.03200000000000003,0.014000000000000012,0.0040000000000000036,0.0040000000000000036,0.0020000000000000018,0.0,0.0020000000000000018,0.0,0.0,0.0020000000000000018,0.0,0.0,0.0,0.0,0.0,0.0,0.0,0.0]}},\"id\":\"ac807a52-806a-4663-87c8-bcf62c82c727\",\"type\":\"ColumnDataSource\"},{\"attributes\":{\"plot\":null,\"text\":\"t-dist hypothesis test\"},\"id\":\"34a12efd-c159-4969-bc8d-dadb3416abd1\",\"type\":\"Title\"},{\"attributes\":{\"callback\":null,\"end\":30,\"start\":-30},\"id\":\"c7926938-c8ca-4ec8-a887-f0bd59a50296\",\"type\":\"Range1d\"},{\"attributes\":{},\"id\":\"548e4903-f291-4362-b108-e1f0e4a12390\",\"type\":\"ToolEvents\"},{\"attributes\":{\"active_drag\":\"auto\",\"active_scroll\":\"auto\",\"active_tap\":\"auto\",\"tools\":[{\"id\":\"9c980be2-a6a8-4108-ad3b-3365410a4f34\",\"type\":\"PanTool\"},{\"id\":\"e5603673-dbe8-4d46-a40c-ce3eb21f4de7\",\"type\":\"WheelZoomTool\"},{\"id\":\"c108d563-736c-4610-90bd-90d4433a5cae\",\"type\":\"BoxZoomTool\"},{\"id\":\"26930233-f50e-48a1-ad31-243bd9399e4d\",\"type\":\"SaveTool\"},{\"id\":\"02b6858a-c956-4704-a6d7-c482c5d09f4b\",\"type\":\"ResetTool\"},{\"id\":\"700fe0df-21f8-4192-9971-c72b887d866b\",\"type\":\"HelpTool\"}]},\"id\":\"22f3b3dc-4a05-471d-b942-3eeee1aa83bd\",\"type\":\"Toolbar\"},{\"attributes\":{\"data_source\":{\"id\":\"ac807a52-806a-4663-87c8-bcf62c82c727\",\"type\":\"ColumnDataSource\"},\"glyph\":{\"id\":\"ea6495fd-c115-41fe-88e5-77ce37a65c0c\",\"type\":\"Line\"},\"hover_glyph\":null,\"muted_glyph\":null,\"nonselection_glyph\":{\"id\":\"a73d3e30-0de2-44f2-8ffa-9472fa3c5855\",\"type\":\"Line\"},\"selection_glyph\":null},\"id\":\"2954f888-c30f-4ac2-8d07-8dc846d48f32\",\"type\":\"GlyphRenderer\"},{\"attributes\":{\"formatter\":{\"id\":\"60312688-227c-4747-b928-efab4a46fe2f\",\"type\":\"BasicTickFormatter\"},\"plot\":{\"id\":\"2ee737f4-b69e-4dc4-a46f-e14cea8d8c48\",\"subtype\":\"Figure\",\"type\":\"Plot\"},\"ticker\":{\"id\":\"2fbc2055-7457-470e-8740-a0b2b4d7eea0\",\"type\":\"BasicTicker\"}},\"id\":\"b32748ce-aa6c-4f8a-a67f-74308992f909\",\"type\":\"LinearAxis\"},{\"attributes\":{\"callback\":null},\"id\":\"2c6ab004-1832-49e1-93bf-671eec1393b9\",\"type\":\"Range1d\"},{\"attributes\":{},\"id\":\"2fbc2055-7457-470e-8740-a0b2b4d7eea0\",\"type\":\"BasicTicker\"}],\"root_ids\":[\"2ee737f4-b69e-4dc4-a46f-e14cea8d8c48\"]},\"title\":\"Bokeh Application\",\"version\":\"0.12.5\"}};\n",
       "            var render_items = [{\"docid\":\"758b2bb1-ea0e-48d2-9f7b-a8f00c960708\",\"elementid\":\"afec858b-d8b4-4ac6-9a0f-b565c2ad2f4c\",\"modelid\":\"2ee737f4-b69e-4dc4-a46f-e14cea8d8c48\",\"notebook_comms_target\":\"2dd2c000-a233-41f9-8f7d-06a83838758a\"}];\n",
       "            \n",
       "            Bokeh.embed.embed_items(docs_json, render_items);\n",
       "          };\n",
       "          if (document.readyState != \"loading\") fn();\n",
       "          else document.addEventListener(\"DOMContentLoaded\", fn);\n",
       "        })();\n",
       "      },\n",
       "      function(Bokeh) {\n",
       "      }\n",
       "    ];\n",
       "  \n",
       "    function run_inline_js() {\n",
       "      \n",
       "      if ((window.Bokeh !== undefined) || (force === true)) {\n",
       "        for (var i = 0; i < inline_js.length; i++) {\n",
       "          inline_js[i](window.Bokeh);\n",
       "        }if (force === true) {\n",
       "          display_loaded();\n",
       "        }} else if (Date.now() < window._bokeh_timeout) {\n",
       "        setTimeout(run_inline_js, 100);\n",
       "      } else if (!window._bokeh_failed_load) {\n",
       "        console.log(\"Bokeh: BokehJS failed to load within specified timeout.\");\n",
       "        window._bokeh_failed_load = true;\n",
       "      } else if (force !== true) {\n",
       "        var cell = $(document.getElementById(\"afec858b-d8b4-4ac6-9a0f-b565c2ad2f4c\")).parents('.cell').data().cell;\n",
       "        cell.output_area.append_execute_result(NB_LOAD_WARNING)\n",
       "      }\n",
       "  \n",
       "    }\n",
       "  \n",
       "    if (window._bokeh_is_loading === 0) {\n",
       "      console.log(\"Bokeh: BokehJS loaded, going straight to plotting\");\n",
       "      run_inline_js();\n",
       "    } else {\n",
       "      load_libs(js_urls, function() {\n",
       "        console.log(\"Bokeh: BokehJS plotting callback run at\", now());\n",
       "        run_inline_js();\n",
       "      });\n",
       "    }\n",
       "  }(this));\n",
       "</script>"
      ]
     },
     "metadata": {},
     "output_type": "display_data"
    },
    {
     "data": {
      "text/html": [
       "<p><code>&lt;Bokeh Notebook handle for <strong>In[8]</strong>&gt;</code></p>"
      ],
      "text/plain": [
       "<bokeh.io._CommsHandle at 0x114040e80>"
      ]
     },
     "execution_count": 14,
     "metadata": {},
     "output_type": "execute_result"
    }
   ],
   "source": [
    "mu_support, list_ratio_fails = my_list_ratio()\n",
    "\n",
    "p = figure(title=\"t-dist hypothesis test\", plot_height=300, plot_width=600, y_range=[0,1], x_range=[-30,30])\n",
    "r = p.line(mu_support, list_ratio_fails, color='blue', line_width=3)\n",
    "\n",
    "def update(mu=5, n=100, ratio_repeat=500):\n",
    "    \n",
    "    mu_support, list_ratio_fails = my_list_ratio(mu, n, ratio_repeat)\n",
    "    r.data_source.data['x'] = mu_support\n",
    "    r.data_source.data['y'] = list_ratio_fails\n",
    "    push_notebook()\n",
    "\n",
    "show(p, notebook_handle=True)\n",
    "\n",
    "\n"
   ]
  },
  {
   "cell_type": "code",
   "execution_count": 15,
   "metadata": {},
   "outputs": [
    {
     "data": {
      "application/vnd.jupyter.widget-view+json": {
       "model_id": "4973709390a14cb69178393aa8b5a6b0"
      }
     },
     "metadata": {},
     "output_type": "display_data"
    },
    {
     "data": {
      "text/plain": [
       "<function __main__.update>"
      ]
     },
     "execution_count": 15,
     "metadata": {},
     "output_type": "execute_result"
    }
   ],
   "source": [
    "interact(update, n=(2, 1000,1), mu=(-50,50,1), ratio_repeat=(10,1000),resamp=['no', 'yes'])"
   ]
  },
  {
   "cell_type": "code",
   "execution_count": 58,
   "metadata": {},
   "outputs": [
    {
     "data": {
      "text/plain": [
       "1.1111111111111112"
      ]
     },
     "execution_count": 58,
     "metadata": {},
     "output_type": "execute_result"
    }
   ],
   "source": []
  },
  {
   "cell_type": "code",
   "execution_count": null,
   "metadata": {
    "collapsed": true
   },
   "outputs": [],
   "source": []
  },
  {
   "cell_type": "code",
   "execution_count": null,
   "metadata": {
    "collapsed": true
   },
   "outputs": [],
   "source": []
  }
 ],
 "metadata": {
  "kernelspec": {
   "display_name": "Python 3",
   "language": "python",
   "name": "python3"
  },
  "language_info": {
   "codemirror_mode": {
    "name": "ipython",
    "version": 3
   },
   "file_extension": ".py",
   "mimetype": "text/x-python",
   "name": "python",
   "nbconvert_exporter": "python",
   "pygments_lexer": "ipython3",
   "version": "3.6.1"
  }
 },
 "nbformat": 4,
 "nbformat_minor": 2
}
