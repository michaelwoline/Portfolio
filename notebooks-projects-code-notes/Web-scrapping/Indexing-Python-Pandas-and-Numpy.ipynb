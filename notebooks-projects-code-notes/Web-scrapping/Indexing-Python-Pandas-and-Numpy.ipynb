{
 "cells": [
  {
   "cell_type": "markdown",
   "metadata": {},
   "source": [
    "## A Post on how to index 1 dimensional, 2 dimensional and 3 dimensional arrays. \n",
    "\n",
    "### Topics\n",
    "- what are all of the varias rules around accessing the array info.\n",
    "- Look up what the ' mark does\n",
    "- see when separate with :, \",\" etc.\n",
    "- how to access from the front, back, slice as column, element in every row from every column\n",
    "- access whole columns, or rows\n",
    "- access portions of the rows or columns\n"
   ]
  }
 ],
 "metadata": {
  "kernelspec": {
   "display_name": "Python 3",
   "language": "python",
   "name": "python3"
  },
  "language_info": {
   "codemirror_mode": {
    "name": "ipython",
    "version": 3
   },
   "file_extension": ".py",
   "mimetype": "text/x-python",
   "name": "python",
   "nbconvert_exporter": "python",
   "pygments_lexer": "ipython3",
   "version": "3.6.1"
  }
 },
 "nbformat": 4,
 "nbformat_minor": 2
}
