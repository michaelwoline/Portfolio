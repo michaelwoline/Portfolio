{
 "cells": [
  {
   "cell_type": "markdown",
   "metadata": {},
   "source": [
    "Day-3-Python-Questions\n",
    "\n",
    "- Initial questions on 11/27\n",
    "- Follow up and clean up on 11/30\n",
    "\n",
    "\n",
    "### to add:\n",
    "- build managing of indexing and array position where nulls are located to either replace np.isnull and np.where or find another solution that meets the criteria. \n"
   ]
  },
  {
   "cell_type": "code",
   "execution_count": 3,
   "metadata": {
    "collapsed": true
   },
   "outputs": [],
   "source": [
    "import numpy as np\n",
    "import math\n",
    "#2. check if there are duplicates in a string\n"
   ]
  },
  {
   "cell_type": "code",
   "execution_count": 62,
   "metadata": {},
   "outputs": [],
   "source": [
    "class My_dynamic_array(object):\n",
    "    '''\n",
    "    1. Make a dynamically resizing array that doubles when full\n",
    "    elements that are empty contain np.nan\n",
    "    '''\n",
    "    def __init__(self, init_size = 5):\n",
    "        self.current_array = np.array([np.nan]*init_size)\n",
    "        self.next_null_pos = 0\n",
    "        self.remaining_null_in_array = init_size\n",
    "    #         self.count_null = init_size\n",
    "        \n",
    "    def fill_array(self, array_size):\n",
    "        tmp_array = np.empty(array_size)\n",
    "        tmp_array.fill(np.nan)\n",
    "        \n",
    "        return np.append(self.current_array, tmp_array)\n",
    "\n",
    "    def update_array(self, val, pos):\n",
    "        self.current_array[pos] = val\n",
    "        \n",
    "        \n",
    "    \n",
    "    def track_next_null():\n",
    "        '''#need to create a method that keeps track of the next null position because: \n",
    "            # what if a null is passed to the 2nd position, and that becomes the next open slot.\n",
    "            # what if a val is passed to an open slot that exists but has other nulls prior to it.\n",
    "        '''\n",
    "        \n",
    "        pass\n",
    "\n",
    "    \n",
    "    \n",
    "    def add_element(self, val, pos = np.nan):\n",
    "        '''\n",
    "        add an element to the array.\n",
    "\n",
    "        If pos value is empty, then add to the next open null position\n",
    "            if no more null slots are availabe, then douple the length of the array and retry.\n",
    "        \n",
    "        if the pos argument is passed, then \n",
    "            check if the pos can legally be updated, ie, it exists.\n",
    "                if not legal return a message to user.\n",
    "                \n",
    "                if legal, overwrite that position with the new value.\n",
    "        '''\n",
    "        \n",
    "        #check if pos. is passed.\n",
    "        if pos:\n",
    "            #check if pos is legal\n",
    "            if pos < len(self.current_array):\n",
    "                #this is a legal pos.\n",
    "                #update pos\n",
    "        \n",
    "                # first track if this is an update to a null and if that null is the next null \n",
    "                # also check if this a null addition that creates a new first null,\n",
    "                # or overwrites the the next null with a null, \n",
    "                # or overwrites a null later in the list, so the next null remains as the next open slot, but later the \n",
    "                # next open slot will have to jump over a filled spot. \n",
    "                self.update_array(val, pos)\n",
    "            else:\n",
    "                print(\"this is not a legal position. position must be less then: \" + str(len(self.current_array)))\n",
    "        \n",
    "        else:\n",
    "            #no position passed            \n",
    "            #check if there is an open slot.\n",
    "            if len(self.current_array[np.isnan(self.current_array)]) > 0:\n",
    "                #there is an open slot available.\n",
    "                #add element to the next open slot. \n",
    "                self.update_array(val, np.where(np.isnan(x))[0][0])\n",
    "            else:\n",
    "                #double the length and add the value to the next \n",
    "                array_len = len(self.current_array)\n",
    "                temp_array = np.array([np.nan]*array_len)\n",
    "                np.append(self.current_array, temp_array)\n",
    "                self.update_array(val, array_len)\n",
    "        \n"
   ]
  },
  {
   "cell_type": "code",
   "execution_count": 63,
   "metadata": {},
   "outputs": [
    {
     "name": "stdout",
     "output_type": "stream",
     "text": [
      "[ nan  nan  nan  nan  nan]\n",
      "this is not a legal position. position must be less then: 5\n",
      "[ nan  nan  nan  nan  nan]\n",
      "this is not a legal position. position must be less then: 5\n",
      "[ nan  nan  nan  nan  nan]\n"
     ]
    }
   ],
   "source": [
    "a = My_dynamic_array()\n",
    "print(a.current_array)\n",
    "a.add_element(4)\n",
    "print(a.current_array)\n",
    "a.add_element(np.nan)\n",
    "print(a.current_array)\n"
   ]
  },
  {
   "cell_type": "code",
   "execution_count": null,
   "metadata": {
    "collapsed": true
   },
   "outputs": [],
   "source": [
    "#previous code:\n",
    " \n",
    "            #         for pos, ele in enumerate(self.current_array):\n",
    "            #             if math.isnan(ele):\n",
    "            #                 self.current_array[pos] = val\n",
    "            #                 no_nan = False\n",
    "            #                 break\n",
    "\n",
    "            #         if no_nan\n",
    "            #             # double the size and add the value\n",
    "\n",
    "\n",
    "            #extend functionality to accommodate arbitrary position inputs          \n"
   ]
  },
  {
   "cell_type": "code",
   "execution_count": 50,
   "metadata": {},
   "outputs": [
    {
     "data": {
      "text/plain": [
       "array([ nan,  nan,  nan])"
      ]
     },
     "execution_count": 50,
     "metadata": {},
     "output_type": "execute_result"
    }
   ],
   "source": [
    "x = np.empty(3)\n",
    "x.fill(np.nan)\n",
    "x"
   ]
  },
  {
   "cell_type": "code",
   "execution_count": 52,
   "metadata": {},
   "outputs": [],
   "source": [
    "x[1] = 4\n",
    "np.where(x)\n",
    "x[0] = 1\n",
    "# x[2] =3"
   ]
  },
  {
   "cell_type": "code",
   "execution_count": 66,
   "metadata": {},
   "outputs": [
    {
     "data": {
      "text/plain": [
       "array([ nan])"
      ]
     },
     "execution_count": 66,
     "metadata": {},
     "output_type": "execute_result"
    }
   ],
   "source": [
    "x[np.where(np.isnan(x))[0]]\n",
    "x[np.isnan(x)]\n",
    "# x[]"
   ]
  },
  {
   "cell_type": "code",
   "execution_count": 23,
   "metadata": {},
   "outputs": [
    {
     "data": {
      "text/plain": [
       "array([  0.,  nan,  nan,  nan])"
      ]
     },
     "execution_count": 23,
     "metadata": {},
     "output_type": "execute_result"
    }
   ],
   "source": [
    "np.append(y, x)"
   ]
  },
  {
   "cell_type": "code",
   "execution_count": 27,
   "metadata": {
    "collapsed": true
   },
   "outputs": [],
   "source": [
    "x = np.array([])"
   ]
  },
  {
   "cell_type": "code",
   "execution_count": 28,
   "metadata": {},
   "outputs": [
    {
     "data": {
      "text/plain": [
       "(array([], dtype=int64),)"
      ]
     },
     "execution_count": 28,
     "metadata": {},
     "output_type": "execute_result"
    }
   ],
   "source": [
    "np.where(x==math.nan)\n"
   ]
  },
  {
   "cell_type": "code",
   "execution_count": 12,
   "metadata": {},
   "outputs": [
    {
     "data": {
      "text/plain": [
       "0"
      ]
     },
     "execution_count": 12,
     "metadata": {},
     "output_type": "execute_result"
    }
   ],
   "source": [
    "x"
   ]
  },
  {
   "cell_type": "code",
   "execution_count": null,
   "metadata": {
    "collapsed": true
   },
   "outputs": [],
   "source": [
    "def pass_param(x):\n",
    "    print(x)\n",
    "    type(x)\n",
    "pass_param"
   ]
  }
 ],
 "metadata": {
  "kernelspec": {
   "display_name": "Python 3",
   "language": "python",
   "name": "python3"
  },
  "language_info": {
   "codemirror_mode": {
    "name": "ipython",
    "version": 3
   },
   "file_extension": ".py",
   "mimetype": "text/x-python",
   "name": "python",
   "nbconvert_exporter": "python",
   "pygments_lexer": "ipython3",
   "version": "3.6.1"
  }
 },
 "nbformat": 4,
 "nbformat_minor": 2
}
