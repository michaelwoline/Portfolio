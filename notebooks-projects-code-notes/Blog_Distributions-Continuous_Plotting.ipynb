{
 "cells": [
  {
   "cell_type": "markdown",
   "metadata": {},
   "source": [
    "\n",
    "## Plotting Distributions Continuous"
   ]
  },
  {
   "cell_type": "markdown",
   "metadata": {},
   "source": [
    "*support*: numeric spacee over which *random variable* $X$ can *actualize outcome* $X$\n",
    "\n",
    "*pmf (discrete)/pdf(continuous)*: former gives probabilites, while later give *relative frequency*\n",
    "- both are just mathematical functions. e.g., the binomial distribution above, and the *normal distributions* here:\n",
    "\n",
    "- turning text into formulas latex pronounced \"la'tek\"\n",
    "\n",
    "$$\n",
    "\\begin{align}\n",
    "\\text{Normal Distribution:} &: \\quad f(X=x) = \\frac{1}{\\sqrt{2\\pi\\sigma^2}}e^{-\\frac{1}{2}\\left(\\frac{x-\\mu}{\\sigma}\\right)^{2}} \\\\\n",
    "\\text{Exponential Distribution:} &: \\quad f(X=x) = {\\lambda}e^{-\\lambda x} \\\\\n",
    "\\text{(Rate Paramaterization) Gamma Distribution:} &: \\quad f(X=x) = \\frac{\\beta^\\alpha}{\\Gamma(\\alpha)}x^{\\alpha-1}e^{\\beta x} \\\\\n",
    "\\text{Binomial Distribution:} &: \\quad Pr(X=x) = \\left(\\begin{array}{c}n\\\\k\\end{array}\\right) p^k (1-p)^{n-k}\\\\\n",
    "\\text{Poisson Distribution:} &: \\\\\n",
    "\\text{Negative Binomial Distribution:} \\\\\n",
    "\\end{align}\n",
    "$$\n",
    "\n",
    "- Parameters:\n",
    "\n",
    "\n",
    "- if a continuous distribution then it is f(x) \n",
    "- if a discrere distribution then Pr(x)\n",
    "\n"
   ]
  },
  {
   "cell_type": "markdown",
   "metadata": {},
   "source": [
    "### Exercise:\n",
    "- Create a few of my own functions using the math above without using any of the built in scipy.stats PMF or PDF.\n",
    "- Plot my function\n",
    "- call the built in scipy.stats functions, and compare the results. \n"
   ]
  },
  {
   "cell_type": "code",
   "execution_count": 1,
   "metadata": {},
   "outputs": [
    {
     "data": {
      "text/html": [
       "\n",
       "    <div class=\"bk-root\">\n",
       "        <a href=\"http://bokeh.pydata.org\" target=\"_blank\" class=\"bk-logo bk-logo-small bk-logo-notebook\"></a>\n",
       "        <span id=\"c4b361da-c2e0-46a1-8405-96a1a1314412\">Loading BokehJS ...</span>\n",
       "    </div>"
      ]
     },
     "metadata": {},
     "output_type": "display_data"
    },
    {
     "data": {
      "application/javascript": [
       "\n",
       "(function(global) {\n",
       "  function now() {\n",
       "    return new Date();\n",
       "  }\n",
       "\n",
       "  var force = true;\n",
       "\n",
       "  if (typeof (window._bokeh_onload_callbacks) === \"undefined\" || force === true) {\n",
       "    window._bokeh_onload_callbacks = [];\n",
       "    window._bokeh_is_loading = undefined;\n",
       "  }\n",
       "\n",
       "\n",
       "  \n",
       "  if (typeof (window._bokeh_timeout) === \"undefined\" || force === true) {\n",
       "    window._bokeh_timeout = Date.now() + 5000;\n",
       "    window._bokeh_failed_load = false;\n",
       "  }\n",
       "\n",
       "  var NB_LOAD_WARNING = {'data': {'text/html':\n",
       "     \"<div style='background-color: #fdd'>\\n\"+\n",
       "     \"<p>\\n\"+\n",
       "     \"BokehJS does not appear to have successfully loaded. If loading BokehJS from CDN, this \\n\"+\n",
       "     \"may be due to a slow or bad network connection. Possible fixes:\\n\"+\n",
       "     \"</p>\\n\"+\n",
       "     \"<ul>\\n\"+\n",
       "     \"<li>re-rerun `output_notebook()` to attempt to load from CDN again, or</li>\\n\"+\n",
       "     \"<li>use INLINE resources instead, as so:</li>\\n\"+\n",
       "     \"</ul>\\n\"+\n",
       "     \"<code>\\n\"+\n",
       "     \"from bokeh.resources import INLINE\\n\"+\n",
       "     \"output_notebook(resources=INLINE)\\n\"+\n",
       "     \"</code>\\n\"+\n",
       "     \"</div>\"}};\n",
       "\n",
       "  function display_loaded() {\n",
       "    if (window.Bokeh !== undefined) {\n",
       "      var el = document.getElementById(\"c4b361da-c2e0-46a1-8405-96a1a1314412\");\n",
       "      el.textContent = \"BokehJS \" + Bokeh.version + \" successfully loaded.\";\n",
       "    } else if (Date.now() < window._bokeh_timeout) {\n",
       "      setTimeout(display_loaded, 100)\n",
       "    }\n",
       "  }\n",
       "\n",
       "  function run_callbacks() {\n",
       "    window._bokeh_onload_callbacks.forEach(function(callback) { callback() });\n",
       "    delete window._bokeh_onload_callbacks\n",
       "    console.info(\"Bokeh: all callbacks have finished\");\n",
       "  }\n",
       "\n",
       "  function load_libs(js_urls, callback) {\n",
       "    window._bokeh_onload_callbacks.push(callback);\n",
       "    if (window._bokeh_is_loading > 0) {\n",
       "      console.log(\"Bokeh: BokehJS is being loaded, scheduling callback at\", now());\n",
       "      return null;\n",
       "    }\n",
       "    if (js_urls == null || js_urls.length === 0) {\n",
       "      run_callbacks();\n",
       "      return null;\n",
       "    }\n",
       "    console.log(\"Bokeh: BokehJS not loaded, scheduling load and callback at\", now());\n",
       "    window._bokeh_is_loading = js_urls.length;\n",
       "    for (var i = 0; i < js_urls.length; i++) {\n",
       "      var url = js_urls[i];\n",
       "      var s = document.createElement('script');\n",
       "      s.src = url;\n",
       "      s.async = false;\n",
       "      s.onreadystatechange = s.onload = function() {\n",
       "        window._bokeh_is_loading--;\n",
       "        if (window._bokeh_is_loading === 0) {\n",
       "          console.log(\"Bokeh: all BokehJS libraries loaded\");\n",
       "          run_callbacks()\n",
       "        }\n",
       "      };\n",
       "      s.onerror = function() {\n",
       "        console.warn(\"failed to load library \" + url);\n",
       "      };\n",
       "      console.log(\"Bokeh: injecting script tag for BokehJS library: \", url);\n",
       "      document.getElementsByTagName(\"head\")[0].appendChild(s);\n",
       "    }\n",
       "  };var element = document.getElementById(\"c4b361da-c2e0-46a1-8405-96a1a1314412\");\n",
       "  if (element == null) {\n",
       "    console.log(\"Bokeh: ERROR: autoload.js configured with elementid 'c4b361da-c2e0-46a1-8405-96a1a1314412' but no matching script tag was found. \")\n",
       "    return false;\n",
       "  }\n",
       "\n",
       "  var js_urls = [\"https://cdn.pydata.org/bokeh/release/bokeh-0.12.5.min.js\", \"https://cdn.pydata.org/bokeh/release/bokeh-widgets-0.12.5.min.js\"];\n",
       "\n",
       "  var inline_js = [\n",
       "    function(Bokeh) {\n",
       "      Bokeh.set_log_level(\"info\");\n",
       "    },\n",
       "    \n",
       "    function(Bokeh) {\n",
       "      \n",
       "    },\n",
       "    \n",
       "    function(Bokeh) {\n",
       "      \n",
       "      document.getElementById(\"c4b361da-c2e0-46a1-8405-96a1a1314412\").textContent = \"BokehJS is loading...\";\n",
       "    },\n",
       "    function(Bokeh) {\n",
       "      console.log(\"Bokeh: injecting CSS: https://cdn.pydata.org/bokeh/release/bokeh-0.12.5.min.css\");\n",
       "      Bokeh.embed.inject_css(\"https://cdn.pydata.org/bokeh/release/bokeh-0.12.5.min.css\");\n",
       "      console.log(\"Bokeh: injecting CSS: https://cdn.pydata.org/bokeh/release/bokeh-widgets-0.12.5.min.css\");\n",
       "      Bokeh.embed.inject_css(\"https://cdn.pydata.org/bokeh/release/bokeh-widgets-0.12.5.min.css\");\n",
       "    }\n",
       "  ];\n",
       "\n",
       "  function run_inline_js() {\n",
       "    \n",
       "    if ((window.Bokeh !== undefined) || (force === true)) {\n",
       "      for (var i = 0; i < inline_js.length; i++) {\n",
       "        inline_js[i](window.Bokeh);\n",
       "      }if (force === true) {\n",
       "        display_loaded();\n",
       "      }} else if (Date.now() < window._bokeh_timeout) {\n",
       "      setTimeout(run_inline_js, 100);\n",
       "    } else if (!window._bokeh_failed_load) {\n",
       "      console.log(\"Bokeh: BokehJS failed to load within specified timeout.\");\n",
       "      window._bokeh_failed_load = true;\n",
       "    } else if (force !== true) {\n",
       "      var cell = $(document.getElementById(\"c4b361da-c2e0-46a1-8405-96a1a1314412\")).parents('.cell').data().cell;\n",
       "      cell.output_area.append_execute_result(NB_LOAD_WARNING)\n",
       "    }\n",
       "\n",
       "  }\n",
       "\n",
       "  if (window._bokeh_is_loading === 0) {\n",
       "    console.log(\"Bokeh: BokehJS loaded, going straight to plotting\");\n",
       "    run_inline_js();\n",
       "  } else {\n",
       "    load_libs(js_urls, function() {\n",
       "      console.log(\"Bokeh: BokehJS plotting callback run at\", now());\n",
       "      run_inline_js();\n",
       "    });\n",
       "  }\n",
       "}(this));"
      ]
     },
     "metadata": {},
     "output_type": "display_data"
    }
   ],
   "source": [
    "import pandas as pd\n",
    "import numpy as np\n",
    "from scipy import stats\n",
    "import math\n",
    "\n",
    "from bokeh.io import output_notebook, show, output_file, push_notebook\n",
    "from bokeh.plotting import figure\n",
    "\n",
    "\n",
    "# For dynamic interactive data as a dictionary\n",
    "from bokeh.models import ColumnDataSource\n",
    "\n",
    "# Widget to accept inputs to modify the graphs. \n",
    "from bokeh.layouts import widgetbox\n",
    "from bokeh.models.widgets import Dropdown, Slider\n",
    "from ipywidgets import interact\n",
    "output_notebook()"
   ]
  },
  {
   "cell_type": "code",
   "execution_count": 2,
   "metadata": {
    "collapsed": true
   },
   "outputs": [],
   "source": [
    "#my own binomial PMF function:\n",
    "#returns the probability of an occurance.\n",
    "\n",
    "def my_binomial(n, x, p):\n",
    "    #combinations possible\n",
    "    combinations = factorial(n)/(factorial(x)* factorial(n-x))\n",
    "    first_pow = math.pow(p, x)\n",
    "    second_pow = math.pow((1-p), (n-x))\n",
    "    return combinations * first_pow * second_pow"
   ]
  },
  {
   "cell_type": "code",
   "execution_count": 3,
   "metadata": {
    "collapsed": true
   },
   "outputs": [],
   "source": [
    "# create a normal distribution function:\n",
    "def my_normal(val, mu, var):\n",
    "    part1 = 1/(np.sqrt(2*np.pi*var))\n",
    "    part2 = math.e**(-1/2 * ((val - mu /np.sqrt(var))**2))\n",
    "    return part1 * part2"
   ]
  },
  {
   "cell_type": "code",
   "execution_count": 4,
   "metadata": {
    "collapsed": true
   },
   "outputs": [],
   "source": [
    "x = np.linspace(-10,10,1000)\n",
    "# y = stats.norm.pdf(x, loc=0, scale = np.sqrt(1))\n",
    "y = my_normal(x, 0, 1)          \n",
    "\n",
    "p = figure(title=\"first\", plot_height=300, plot_width = 600, y_range=(0,5))\n",
    "r = p.line(x, y, color='blue', line_width=3)"
   ]
  },
  {
   "cell_type": "code",
   "execution_count": 5,
   "metadata": {
    "collapsed": true
   },
   "outputs": [],
   "source": [
    "def update(f, mean=1, variance=1):\n",
    "    if f==\"norm\": \n",
    "        # switch between my function and the built in function.\n",
    "        # r.data_source.data['y'] = stats.norm.pdf(x, loc=mean, scale=np.sqrt(variance))\n",
    "        r.data_source.data['y'] = my_normal(x, mean, variance)\n",
    "    elif f== \"expo\":\n",
    "        r.data_source.data['y'] = stats.expon.pdf(x, loc=mean, scale=variance)\n",
    "    elif f== \"gamma\": \n",
    "        beta = mean/variance\n",
    "        alpha = mean**2/variance\n",
    "        r.data_source.data['y'] = stats.gamma.pdf(x, a=alpha, scale=1./beta)\n",
    "    elif f=='':\n",
    "        pass\n",
    "    push_notebook()"
   ]
  },
  {
   "cell_type": "code",
   "execution_count": 6,
   "metadata": {
    "collapsed": true
   },
   "outputs": [],
   "source": [
    "#r.data_source.data   # showing how to access data after each change of slider\n",
    "# since the x data remains the same, all that changes is the y data with a PDF or PMF"
   ]
  },
  {
   "cell_type": "code",
   "execution_count": 7,
   "metadata": {},
   "outputs": [
    {
     "data": {
      "text/html": [
       "\n",
       "\n",
       "    <div class=\"bk-root\">\n",
       "        <div class=\"bk-plotdiv\" id=\"45b37c1c-e772-49f3-979c-43f194890a0f\"></div>\n",
       "    </div>\n",
       "<script type=\"text/javascript\">\n",
       "  \n",
       "  (function(global) {\n",
       "    function now() {\n",
       "      return new Date();\n",
       "    }\n",
       "  \n",
       "    var force = false;\n",
       "  \n",
       "    if (typeof (window._bokeh_onload_callbacks) === \"undefined\" || force === true) {\n",
       "      window._bokeh_onload_callbacks = [];\n",
       "      window._bokeh_is_loading = undefined;\n",
       "    }\n",
       "  \n",
       "  \n",
       "    \n",
       "    if (typeof (window._bokeh_timeout) === \"undefined\" || force === true) {\n",
       "      window._bokeh_timeout = Date.now() + 0;\n",
       "      window._bokeh_failed_load = false;\n",
       "    }\n",
       "  \n",
       "    var NB_LOAD_WARNING = {'data': {'text/html':\n",
       "       \"<div style='background-color: #fdd'>\\n\"+\n",
       "       \"<p>\\n\"+\n",
       "       \"BokehJS does not appear to have successfully loaded. If loading BokehJS from CDN, this \\n\"+\n",
       "       \"may be due to a slow or bad network connection. Possible fixes:\\n\"+\n",
       "       \"</p>\\n\"+\n",
       "       \"<ul>\\n\"+\n",
       "       \"<li>re-rerun `output_notebook()` to attempt to load from CDN again, or</li>\\n\"+\n",
       "       \"<li>use INLINE resources instead, as so:</li>\\n\"+\n",
       "       \"</ul>\\n\"+\n",
       "       \"<code>\\n\"+\n",
       "       \"from bokeh.resources import INLINE\\n\"+\n",
       "       \"output_notebook(resources=INLINE)\\n\"+\n",
       "       \"</code>\\n\"+\n",
       "       \"</div>\"}};\n",
       "  \n",
       "    function display_loaded() {\n",
       "      if (window.Bokeh !== undefined) {\n",
       "        var el = document.getElementById(\"45b37c1c-e772-49f3-979c-43f194890a0f\");\n",
       "        el.textContent = \"BokehJS \" + Bokeh.version + \" successfully loaded.\";\n",
       "      } else if (Date.now() < window._bokeh_timeout) {\n",
       "        setTimeout(display_loaded, 100)\n",
       "      }\n",
       "    }if ((window.Jupyter !== undefined) && Jupyter.notebook.kernel) {\n",
       "      comm_manager = Jupyter.notebook.kernel.comm_manager\n",
       "      comm_manager.register_target(\"823552b6-b2fd-499e-a53e-3b35b547ffb6\", function () {});\n",
       "    }\n",
       "  \n",
       "    function run_callbacks() {\n",
       "      window._bokeh_onload_callbacks.forEach(function(callback) { callback() });\n",
       "      delete window._bokeh_onload_callbacks\n",
       "      console.info(\"Bokeh: all callbacks have finished\");\n",
       "    }\n",
       "  \n",
       "    function load_libs(js_urls, callback) {\n",
       "      window._bokeh_onload_callbacks.push(callback);\n",
       "      if (window._bokeh_is_loading > 0) {\n",
       "        console.log(\"Bokeh: BokehJS is being loaded, scheduling callback at\", now());\n",
       "        return null;\n",
       "      }\n",
       "      if (js_urls == null || js_urls.length === 0) {\n",
       "        run_callbacks();\n",
       "        return null;\n",
       "      }\n",
       "      console.log(\"Bokeh: BokehJS not loaded, scheduling load and callback at\", now());\n",
       "      window._bokeh_is_loading = js_urls.length;\n",
       "      for (var i = 0; i < js_urls.length; i++) {\n",
       "        var url = js_urls[i];\n",
       "        var s = document.createElement('script');\n",
       "        s.src = url;\n",
       "        s.async = false;\n",
       "        s.onreadystatechange = s.onload = function() {\n",
       "          window._bokeh_is_loading--;\n",
       "          if (window._bokeh_is_loading === 0) {\n",
       "            console.log(\"Bokeh: all BokehJS libraries loaded\");\n",
       "            run_callbacks()\n",
       "          }\n",
       "        };\n",
       "        s.onerror = function() {\n",
       "          console.warn(\"failed to load library \" + url);\n",
       "        };\n",
       "        console.log(\"Bokeh: injecting script tag for BokehJS library: \", url);\n",
       "        document.getElementsByTagName(\"head\")[0].appendChild(s);\n",
       "      }\n",
       "    };var element = document.getElementById(\"45b37c1c-e772-49f3-979c-43f194890a0f\");\n",
       "    if (element == null) {\n",
       "      console.log(\"Bokeh: ERROR: autoload.js configured with elementid '45b37c1c-e772-49f3-979c-43f194890a0f' but no matching script tag was found. \")\n",
       "      return false;\n",
       "    }\n",
       "  \n",
       "    var js_urls = [];\n",
       "  \n",
       "    var inline_js = [\n",
       "      function(Bokeh) {\n",
       "        (function() {\n",
       "          var fn = function() {\n",
       "            var docs_json = {\"a66d96bd-82b2-41d7-85d4-6ea47af7f3fa\":{\"roots\":{\"references\":[{\"attributes\":{\"below\":[{\"id\":\"49e65a3e-1705-4767-a711-70cfd1e898cf\",\"type\":\"LinearAxis\"}],\"left\":[{\"id\":\"e04baadf-32b0-469c-8101-8e89f1ecc2d5\",\"type\":\"LinearAxis\"}],\"plot_height\":300,\"renderers\":[{\"id\":\"49e65a3e-1705-4767-a711-70cfd1e898cf\",\"type\":\"LinearAxis\"},{\"id\":\"bba4357d-43df-44f1-80e2-536bb9f2cb7f\",\"type\":\"Grid\"},{\"id\":\"e04baadf-32b0-469c-8101-8e89f1ecc2d5\",\"type\":\"LinearAxis\"},{\"id\":\"7a9da389-8494-4242-a55f-a1088697be8d\",\"type\":\"Grid\"},{\"id\":\"8d5d31b5-d774-41a2-957b-b140fe464484\",\"type\":\"BoxAnnotation\"},{\"id\":\"236f9a7f-d8a4-49d5-b4a2-9f76ad69b121\",\"type\":\"GlyphRenderer\"}],\"title\":{\"id\":\"b38c18ad-f4b6-420a-bfbf-d9982e4f9ab4\",\"type\":\"Title\"},\"tool_events\":{\"id\":\"2d95a61d-7a3b-4b5a-bb75-efc7192db386\",\"type\":\"ToolEvents\"},\"toolbar\":{\"id\":\"da65c666-6a37-4d9f-ba76-21fc5702234e\",\"type\":\"Toolbar\"},\"x_range\":{\"id\":\"3cc3b98d-dd5b-4bd7-8e6d-423527b5a88d\",\"type\":\"DataRange1d\"},\"y_range\":{\"id\":\"707b3627-d491-45d5-bd8e-e8bbb3f05c7e\",\"type\":\"Range1d\"}},\"id\":\"54b5860d-9ec5-4853-ae08-aac52e7c223b\",\"subtype\":\"Figure\",\"type\":\"Plot\"},{\"attributes\":{\"plot\":{\"id\":\"54b5860d-9ec5-4853-ae08-aac52e7c223b\",\"subtype\":\"Figure\",\"type\":\"Plot\"}},\"id\":\"7d106694-1f6d-4c61-a186-5b86628caf9e\",\"type\":\"WheelZoomTool\"},{\"attributes\":{\"plot\":{\"id\":\"54b5860d-9ec5-4853-ae08-aac52e7c223b\",\"subtype\":\"Figure\",\"type\":\"Plot\"}},\"id\":\"2a48508e-e66c-44e3-a58f-984c79e6c3df\",\"type\":\"SaveTool\"},{\"attributes\":{\"data_source\":{\"id\":\"7ffd51e6-04a8-4127-919a-f5f2c0f7bf71\",\"type\":\"ColumnDataSource\"},\"glyph\":{\"id\":\"344bbde8-59ee-45f4-a6e0-b3c111ff5a37\",\"type\":\"Line\"},\"hover_glyph\":null,\"muted_glyph\":null,\"nonselection_glyph\":{\"id\":\"5f159203-0592-477b-8fb6-6699f9c2a999\",\"type\":\"Line\"},\"selection_glyph\":null},\"id\":\"236f9a7f-d8a4-49d5-b4a2-9f76ad69b121\",\"type\":\"GlyphRenderer\"},{\"attributes\":{\"plot\":{\"id\":\"54b5860d-9ec5-4853-ae08-aac52e7c223b\",\"subtype\":\"Figure\",\"type\":\"Plot\"}},\"id\":\"46f46b74-f118-4d50-80d1-4f366681b489\",\"type\":\"ResetTool\"},{\"attributes\":{\"plot\":null,\"text\":\"first\"},\"id\":\"b38c18ad-f4b6-420a-bfbf-d9982e4f9ab4\",\"type\":\"Title\"},{\"attributes\":{\"plot\":{\"id\":\"54b5860d-9ec5-4853-ae08-aac52e7c223b\",\"subtype\":\"Figure\",\"type\":\"Plot\"}},\"id\":\"59d1446f-0dbb-4ce7-91f2-b4f18c39f383\",\"type\":\"HelpTool\"},{\"attributes\":{},\"id\":\"2d95a61d-7a3b-4b5a-bb75-efc7192db386\",\"type\":\"ToolEvents\"},{\"attributes\":{\"line_color\":{\"value\":\"blue\"},\"line_width\":{\"value\":3},\"x\":{\"field\":\"x\"},\"y\":{\"field\":\"y\"}},\"id\":\"344bbde8-59ee-45f4-a6e0-b3c111ff5a37\",\"type\":\"Line\"},{\"attributes\":{\"active_drag\":\"auto\",\"active_scroll\":\"auto\",\"active_tap\":\"auto\",\"tools\":[{\"id\":\"6dc9be77-885c-4085-bcc0-fbd8a3cc96a1\",\"type\":\"PanTool\"},{\"id\":\"7d106694-1f6d-4c61-a186-5b86628caf9e\",\"type\":\"WheelZoomTool\"},{\"id\":\"33506016-c488-4e55-8598-935f3094929f\",\"type\":\"BoxZoomTool\"},{\"id\":\"2a48508e-e66c-44e3-a58f-984c79e6c3df\",\"type\":\"SaveTool\"},{\"id\":\"46f46b74-f118-4d50-80d1-4f366681b489\",\"type\":\"ResetTool\"},{\"id\":\"59d1446f-0dbb-4ce7-91f2-b4f18c39f383\",\"type\":\"HelpTool\"}]},\"id\":\"da65c666-6a37-4d9f-ba76-21fc5702234e\",\"type\":\"Toolbar\"},{\"attributes\":{\"overlay\":{\"id\":\"8d5d31b5-d774-41a2-957b-b140fe464484\",\"type\":\"BoxAnnotation\"},\"plot\":{\"id\":\"54b5860d-9ec5-4853-ae08-aac52e7c223b\",\"subtype\":\"Figure\",\"type\":\"Plot\"}},\"id\":\"33506016-c488-4e55-8598-935f3094929f\",\"type\":\"BoxZoomTool\"},{\"attributes\":{\"callback\":null},\"id\":\"3cc3b98d-dd5b-4bd7-8e6d-423527b5a88d\",\"type\":\"DataRange1d\"},{\"attributes\":{\"formatter\":{\"id\":\"3eac856c-6b68-4a20-b9ad-7453a03d03f2\",\"type\":\"BasicTickFormatter\"},\"plot\":{\"id\":\"54b5860d-9ec5-4853-ae08-aac52e7c223b\",\"subtype\":\"Figure\",\"type\":\"Plot\"},\"ticker\":{\"id\":\"c21563e6-7df4-4243-93df-f3ce7881b25b\",\"type\":\"BasicTicker\"}},\"id\":\"49e65a3e-1705-4767-a711-70cfd1e898cf\",\"type\":\"LinearAxis\"},{\"attributes\":{\"callback\":null,\"column_names\":[\"x\",\"y\"],\"data\":{\"x\":{\"__ndarray__\":\"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\",\"dtype\":\"float64\",\"shape\":[1000]},\"y\":{\"__ndarray__\":\"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\",\"dtype\":\"float64\",\"shape\":[1000]}}},\"id\":\"7ffd51e6-04a8-4127-919a-f5f2c0f7bf71\",\"type\":\"ColumnDataSource\"},{\"attributes\":{\"dimension\":1,\"plot\":{\"id\":\"54b5860d-9ec5-4853-ae08-aac52e7c223b\",\"subtype\":\"Figure\",\"type\":\"Plot\"},\"ticker\":{\"id\":\"8fc6426c-4872-4276-99bf-4f008532649a\",\"type\":\"BasicTicker\"}},\"id\":\"7a9da389-8494-4242-a55f-a1088697be8d\",\"type\":\"Grid\"},{\"attributes\":{\"bottom_units\":\"screen\",\"fill_alpha\":{\"value\":0.5},\"fill_color\":{\"value\":\"lightgrey\"},\"left_units\":\"screen\",\"level\":\"overlay\",\"line_alpha\":{\"value\":1.0},\"line_color\":{\"value\":\"black\"},\"line_dash\":[4,4],\"line_width\":{\"value\":2},\"plot\":null,\"render_mode\":\"css\",\"right_units\":\"screen\",\"top_units\":\"screen\"},\"id\":\"8d5d31b5-d774-41a2-957b-b140fe464484\",\"type\":\"BoxAnnotation\"},{\"attributes\":{},\"id\":\"3eac856c-6b68-4a20-b9ad-7453a03d03f2\",\"type\":\"BasicTickFormatter\"},{\"attributes\":{},\"id\":\"8fc6426c-4872-4276-99bf-4f008532649a\",\"type\":\"BasicTicker\"},{\"attributes\":{\"plot\":{\"id\":\"54b5860d-9ec5-4853-ae08-aac52e7c223b\",\"subtype\":\"Figure\",\"type\":\"Plot\"},\"ticker\":{\"id\":\"c21563e6-7df4-4243-93df-f3ce7881b25b\",\"type\":\"BasicTicker\"}},\"id\":\"bba4357d-43df-44f1-80e2-536bb9f2cb7f\",\"type\":\"Grid\"},{\"attributes\":{\"formatter\":{\"id\":\"bf5bae1f-9e2f-440f-969a-c514375c06ae\",\"type\":\"BasicTickFormatter\"},\"plot\":{\"id\":\"54b5860d-9ec5-4853-ae08-aac52e7c223b\",\"subtype\":\"Figure\",\"type\":\"Plot\"},\"ticker\":{\"id\":\"8fc6426c-4872-4276-99bf-4f008532649a\",\"type\":\"BasicTicker\"}},\"id\":\"e04baadf-32b0-469c-8101-8e89f1ecc2d5\",\"type\":\"LinearAxis\"},{\"attributes\":{},\"id\":\"c21563e6-7df4-4243-93df-f3ce7881b25b\",\"type\":\"BasicTicker\"},{\"attributes\":{\"line_alpha\":{\"value\":0.1},\"line_color\":{\"value\":\"#1f77b4\"},\"line_width\":{\"value\":3},\"x\":{\"field\":\"x\"},\"y\":{\"field\":\"y\"}},\"id\":\"5f159203-0592-477b-8fb6-6699f9c2a999\",\"type\":\"Line\"},{\"attributes\":{\"plot\":{\"id\":\"54b5860d-9ec5-4853-ae08-aac52e7c223b\",\"subtype\":\"Figure\",\"type\":\"Plot\"}},\"id\":\"6dc9be77-885c-4085-bcc0-fbd8a3cc96a1\",\"type\":\"PanTool\"},{\"attributes\":{\"callback\":null,\"end\":5},\"id\":\"707b3627-d491-45d5-bd8e-e8bbb3f05c7e\",\"type\":\"Range1d\"},{\"attributes\":{},\"id\":\"bf5bae1f-9e2f-440f-969a-c514375c06ae\",\"type\":\"BasicTickFormatter\"}],\"root_ids\":[\"54b5860d-9ec5-4853-ae08-aac52e7c223b\"]},\"title\":\"Bokeh Application\",\"version\":\"0.12.5\"}};\n",
       "            var render_items = [{\"docid\":\"a66d96bd-82b2-41d7-85d4-6ea47af7f3fa\",\"elementid\":\"45b37c1c-e772-49f3-979c-43f194890a0f\",\"modelid\":\"54b5860d-9ec5-4853-ae08-aac52e7c223b\",\"notebook_comms_target\":\"823552b6-b2fd-499e-a53e-3b35b547ffb6\"}];\n",
       "            \n",
       "            Bokeh.embed.embed_items(docs_json, render_items);\n",
       "          };\n",
       "          if (document.readyState != \"loading\") fn();\n",
       "          else document.addEventListener(\"DOMContentLoaded\", fn);\n",
       "        })();\n",
       "      },\n",
       "      function(Bokeh) {\n",
       "      }\n",
       "    ];\n",
       "  \n",
       "    function run_inline_js() {\n",
       "      \n",
       "      if ((window.Bokeh !== undefined) || (force === true)) {\n",
       "        for (var i = 0; i < inline_js.length; i++) {\n",
       "          inline_js[i](window.Bokeh);\n",
       "        }if (force === true) {\n",
       "          display_loaded();\n",
       "        }} else if (Date.now() < window._bokeh_timeout) {\n",
       "        setTimeout(run_inline_js, 100);\n",
       "      } else if (!window._bokeh_failed_load) {\n",
       "        console.log(\"Bokeh: BokehJS failed to load within specified timeout.\");\n",
       "        window._bokeh_failed_load = true;\n",
       "      } else if (force !== true) {\n",
       "        var cell = $(document.getElementById(\"45b37c1c-e772-49f3-979c-43f194890a0f\")).parents('.cell').data().cell;\n",
       "        cell.output_area.append_execute_result(NB_LOAD_WARNING)\n",
       "      }\n",
       "  \n",
       "    }\n",
       "  \n",
       "    if (window._bokeh_is_loading === 0) {\n",
       "      console.log(\"Bokeh: BokehJS loaded, going straight to plotting\");\n",
       "      run_inline_js();\n",
       "    } else {\n",
       "      load_libs(js_urls, function() {\n",
       "        console.log(\"Bokeh: BokehJS plotting callback run at\", now());\n",
       "        run_inline_js();\n",
       "      });\n",
       "    }\n",
       "  }(this));\n",
       "</script>"
      ]
     },
     "metadata": {},
     "output_type": "display_data"
    },
    {
     "data": {
      "text/html": [
       "<p><code>&lt;Bokeh Notebook handle for <strong>In[7]</strong>&gt;</code></p>"
      ],
      "text/plain": [
       "<bokeh.io._CommsHandle at 0x1031fc0b8>"
      ]
     },
     "execution_count": 7,
     "metadata": {},
     "output_type": "execute_result"
    }
   ],
   "source": [
    "show(p, notebook_handle=True)"
   ]
  },
  {
   "cell_type": "code",
   "execution_count": 8,
   "metadata": {},
   "outputs": [
    {
     "data": {
      "application/vnd.jupyter.widget-view+json": {
       "model_id": "02dae0b30480462fb86791cabcef708f"
      }
     },
     "metadata": {},
     "output_type": "display_data"
    },
    {
     "data": {
      "text/plain": [
       "<function __main__.update>"
      ]
     },
     "execution_count": 8,
     "metadata": {},
     "output_type": "execute_result"
    }
   ],
   "source": [
    "interact(update, f=['norm', 'expo', 'gamma'], mean=(-20,20,.01), variance=(.01,5, .01))"
   ]
  },
  {
   "cell_type": "code",
   "execution_count": null,
   "metadata": {
    "collapsed": true
   },
   "outputs": [],
   "source": []
  }
 ],
 "metadata": {
  "kernelspec": {
   "display_name": "Python 3",
   "language": "python",
   "name": "python3"
  },
  "language_info": {
   "codemirror_mode": {
    "name": "ipython",
    "version": 3
   },
   "file_extension": ".py",
   "mimetype": "text/x-python",
   "name": "python",
   "nbconvert_exporter": "python",
   "pygments_lexer": "ipython3",
   "version": "3.6.1"
  }
 },
 "nbformat": 4,
 "nbformat_minor": 2
}
